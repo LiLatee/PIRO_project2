{
 "cells": [
  {
   "cell_type": "code",
   "execution_count": 256,
   "metadata": {},
   "outputs": [],
   "source": [
    "from pathlib import Path\n",
    "from skimage import io\n",
    "from skimage.io import find_available_plugins\n",
    "from matplotlib import pyplot as plt\n",
    "import PyQt5\n",
    "from skimage.filters import threshold_otsu, threshold_local, median\n",
    "from skimage.color import rgb2gray\n",
    "from skimage.util import img_as_ubyte, img_as_bool\n",
    "from skimage.filters import gaussian\n",
    "from skimage.morphology import erosion, dilation, opening, closing\n",
    "from skimage.exposure import rescale_intensity\n",
    "from skimage import feature\n",
    "from collections import Counter\n",
    "import numpy as np\n",
    "from skimage.morphology import square\n",
    "%matplotlib qt "
   ]
  },
  {
   "cell_type": "code",
   "execution_count": 218,
   "metadata": {},
   "outputs": [],
   "source": [
    "from skimage.filters import threshold_multiotsu\n",
    "\n",
    "def local_thresholding(img):   \n",
    "#     img = rgb2gray(img)\n",
    "#     img = img_as_ubyte(img)\n",
    "    height, width = img.shape\n",
    "    temp = int((height+width)/10)\n",
    "    block_size = temp if temp%2==1 else temp+1\n",
    "    offset = np.mean(img.flatten())/2\n",
    "    local_thresh = threshold_local(img, block_size, offset=0, method='gaussian')\n",
    "\n",
    "    binary_local = img > local_thresh\n",
    "    \n",
    "    return binary_local\n",
    "    \n",
    "def global_thresholding(img):   \n",
    "#     img = rgb2gray(img)\n",
    "#     img = img_as_ubyte(img)\n",
    "\n",
    "    global_thresh = threshold_otsu(img)\n",
    "    binary_global = img > global_thresh\n",
    "\n",
    "    return binary_global   \n",
    "\n",
    "def yen_thresholding(img):   \n",
    "#     img = rgb2gray(img)\n",
    "#     img = img_as_ubyte(img)\n",
    "\n",
    "    global_thresh = threshold_yen(img)\n",
    "    binary_global = img > global_thresh\n",
    "\n",
    "    return binary_global  \n",
    "\n",
    "def multi_thresholding(img):   \n",
    "\n",
    "\n",
    "    global_thresh = threshold_yen(img)\n",
    "    binary_global = img > global_thresh\n",
    "\n",
    "    return binary_global  \n",
    "\n"
   ]
  },
  {
   "cell_type": "code",
   "execution_count": 309,
   "metadata": {},
   "outputs": [],
   "source": [
    "def to_binary_sheet_and_background(img):\n",
    "    # Contrast stretching\n",
    "    p2, p98 = np.percentile(img, (2, 98))\n",
    "    img = rescale_intensity(img, in_range=(p2, p98))\n",
    "\n",
    "\n",
    "    # dzielimy obraz na 4 części i w nich loklanie wykonujemy thresholding metodą otsu\n",
    "    width, height = img.shape\n",
    "    img[:int(height/2), :int(width/2)] = global_thresholding(img[:int(height/2), :int(width/2)])\n",
    "    img[:int(height/2), int(width/2):] = global_thresholding(img[:int(height/2), int(width/2):])\n",
    "    img[int(height/2):, :int(width/2)] = global_thresholding(img[int(height/2):, :int(width/2)])\n",
    "    img[int(height/2):, int(width/2):] = global_thresholding(img[int(height/2):, int(width/2):])\n",
    "    \n",
    "    return img"
   ]
  },
  {
   "cell_type": "code",
   "execution_count": 308,
   "metadata": {},
   "outputs": [
    {
     "name": "stdout",
     "output_type": "stream",
     "text": [
      "..\\data\\ocr1\\img_1.jpg\n",
      "0.2689792156862745 0.6446866666666667\n"
     ]
    },
    {
     "name": "stderr",
     "output_type": "stream",
     "text": [
      "Lossy conversion from float64 to uint8. Range [0, 1]. Convert image to uint8 prior to saving to suppress this warning.\n"
     ]
    },
    {
     "name": "stdout",
     "output_type": "stream",
     "text": [
      "..\\data\\ocr1\\img_10.jpg\n",
      "0.2642470588235294 0.645527843137255\n"
     ]
    },
    {
     "name": "stderr",
     "output_type": "stream",
     "text": [
      "Lossy conversion from float64 to uint8. Range [0, 1]. Convert image to uint8 prior to saving to suppress this warning.\n"
     ]
    },
    {
     "name": "stdout",
     "output_type": "stream",
     "text": [
      "..\\data\\ocr1\\img_11.jpg\n",
      "0.38767568627450977 0.6288874509803922\n"
     ]
    },
    {
     "name": "stderr",
     "output_type": "stream",
     "text": [
      "Lossy conversion from float64 to uint8. Range [0, 1]. Convert image to uint8 prior to saving to suppress this warning.\n"
     ]
    },
    {
     "name": "stdout",
     "output_type": "stream",
     "text": [
      "..\\data\\ocr1\\img_12.jpg\n",
      "0.2599447058823529 0.6684086274509804\n"
     ]
    },
    {
     "name": "stderr",
     "output_type": "stream",
     "text": [
      "Lossy conversion from float64 to uint8. Range [0, 1]. Convert image to uint8 prior to saving to suppress this warning.\n"
     ]
    },
    {
     "name": "stdout",
     "output_type": "stream",
     "text": [
      "..\\data\\ocr1\\img_13.jpg\n",
      "0.2854541176470588 0.632258431372549\n"
     ]
    },
    {
     "name": "stderr",
     "output_type": "stream",
     "text": [
      "Lossy conversion from float64 to uint8. Range [0, 1]. Convert image to uint8 prior to saving to suppress this warning.\n"
     ]
    },
    {
     "name": "stdout",
     "output_type": "stream",
     "text": [
      "..\\data\\ocr1\\img_14.jpg\n",
      "0.275318431372549 0.6580654901960783\n"
     ]
    },
    {
     "name": "stderr",
     "output_type": "stream",
     "text": [
      "Lossy conversion from float64 to uint8. Range [0, 1]. Convert image to uint8 prior to saving to suppress this warning.\n"
     ]
    },
    {
     "name": "stdout",
     "output_type": "stream",
     "text": [
      "..\\data\\ocr1\\img_15.jpg\n",
      "0.23928117647058825 0.6287027450980393\n"
     ]
    },
    {
     "name": "stderr",
     "output_type": "stream",
     "text": [
      "Lossy conversion from float64 to uint8. Range [0, 1]. Convert image to uint8 prior to saving to suppress this warning.\n"
     ]
    },
    {
     "name": "stdout",
     "output_type": "stream",
     "text": [
      "..\\data\\ocr1\\img_16.jpg\n",
      "0.2670376470588235 0.6251094117647059\n"
     ]
    },
    {
     "name": "stderr",
     "output_type": "stream",
     "text": [
      "Lossy conversion from float64 to uint8. Range [0, 1]. Convert image to uint8 prior to saving to suppress this warning.\n"
     ]
    },
    {
     "name": "stdout",
     "output_type": "stream",
     "text": [
      "..\\data\\ocr1\\img_17.jpg\n",
      "0.3400980392156863 0.6255541176470587\n"
     ]
    },
    {
     "name": "stderr",
     "output_type": "stream",
     "text": [
      "Lossy conversion from float64 to uint8. Range [0, 1]. Convert image to uint8 prior to saving to suppress this warning.\n"
     ]
    },
    {
     "name": "stdout",
     "output_type": "stream",
     "text": [
      "..\\data\\ocr1\\img_18.jpg\n",
      "0.3206956862745098 0.6375717647058823\n"
     ]
    },
    {
     "name": "stderr",
     "output_type": "stream",
     "text": [
      "Lossy conversion from float64 to uint8. Range [0, 1]. Convert image to uint8 prior to saving to suppress this warning.\n"
     ]
    },
    {
     "name": "stdout",
     "output_type": "stream",
     "text": [
      "..\\data\\ocr1\\img_19.jpg\n",
      "0.30648549019607846 0.6283972549019609\n"
     ]
    },
    {
     "name": "stderr",
     "output_type": "stream",
     "text": [
      "Lossy conversion from float64 to uint8. Range [0, 1]. Convert image to uint8 prior to saving to suppress this warning.\n"
     ]
    },
    {
     "name": "stdout",
     "output_type": "stream",
     "text": [
      "..\\data\\ocr1\\img_2.jpg\n",
      "0.27349686274509805 0.6466133333333335\n"
     ]
    },
    {
     "name": "stderr",
     "output_type": "stream",
     "text": [
      "Lossy conversion from float64 to uint8. Range [0, 1]. Convert image to uint8 prior to saving to suppress this warning.\n"
     ]
    },
    {
     "name": "stdout",
     "output_type": "stream",
     "text": [
      "..\\data\\ocr1\\img_20.jpg\n",
      "0.2747309803921569 0.6352494117647058\n"
     ]
    },
    {
     "name": "stderr",
     "output_type": "stream",
     "text": [
      "Lossy conversion from float64 to uint8. Range [0, 1]. Convert image to uint8 prior to saving to suppress this warning.\n"
     ]
    },
    {
     "name": "stdout",
     "output_type": "stream",
     "text": [
      "..\\data\\ocr1\\img_21.jpg\n",
      "0.26486313725490196 0.6234847058823529\n"
     ]
    },
    {
     "name": "stderr",
     "output_type": "stream",
     "text": [
      "Lossy conversion from float64 to uint8. Range [0, 1]. Convert image to uint8 prior to saving to suppress this warning.\n"
     ]
    },
    {
     "name": "stdout",
     "output_type": "stream",
     "text": [
      "..\\data\\ocr1\\img_22.jpg\n",
      "0.36651137254901955 0.6475874509803922\n"
     ]
    },
    {
     "name": "stderr",
     "output_type": "stream",
     "text": [
      "Lossy conversion from float64 to uint8. Range [0, 1]. Convert image to uint8 prior to saving to suppress this warning.\n"
     ]
    },
    {
     "name": "stdout",
     "output_type": "stream",
     "text": [
      "..\\data\\ocr1\\img_23.jpg\n",
      "0.2839949019607843 0.6342156862745097\n"
     ]
    },
    {
     "name": "stderr",
     "output_type": "stream",
     "text": [
      "Lossy conversion from float64 to uint8. Range [0, 1]. Convert image to uint8 prior to saving to suppress this warning.\n"
     ]
    },
    {
     "name": "stdout",
     "output_type": "stream",
     "text": [
      "..\\data\\ocr1\\img_24.jpg\n",
      "0.2862647058823529 0.6499019607843137\n"
     ]
    },
    {
     "name": "stderr",
     "output_type": "stream",
     "text": [
      "Lossy conversion from float64 to uint8. Range [0, 1]. Convert image to uint8 prior to saving to suppress this warning.\n"
     ]
    },
    {
     "name": "stdout",
     "output_type": "stream",
     "text": [
      "..\\data\\ocr1\\img_25.jpg\n",
      "0.34901960784313724 0.6484654901960785\n"
     ]
    },
    {
     "name": "stderr",
     "output_type": "stream",
     "text": [
      "Lossy conversion from float64 to uint8. Range [0, 1]. Convert image to uint8 prior to saving to suppress this warning.\n"
     ]
    },
    {
     "name": "stdout",
     "output_type": "stream",
     "text": [
      "..\\data\\ocr1\\img_26.jpg\n",
      "0.31938676862745097 0.6534654901960784\n"
     ]
    },
    {
     "name": "stderr",
     "output_type": "stream",
     "text": [
      "Lossy conversion from float64 to uint8. Range [0, 1]. Convert image to uint8 prior to saving to suppress this warning.\n"
     ]
    },
    {
     "name": "stdout",
     "output_type": "stream",
     "text": [
      "..\\data\\ocr1\\img_27.jpg\n",
      "0.027756470588235296 0.6573870588235294\n"
     ]
    },
    {
     "name": "stderr",
     "output_type": "stream",
     "text": [
      "Lossy conversion from float64 to uint8. Range [0, 1]. Convert image to uint8 prior to saving to suppress this warning.\n"
     ]
    },
    {
     "name": "stdout",
     "output_type": "stream",
     "text": [
      "..\\data\\ocr1\\img_28.jpg\n",
      "0.31597254901960786 0.6549019607843137\n"
     ]
    },
    {
     "name": "stderr",
     "output_type": "stream",
     "text": [
      "Lossy conversion from float64 to uint8. Range [0, 1]. Convert image to uint8 prior to saving to suppress this warning.\n"
     ]
    },
    {
     "name": "stdout",
     "output_type": "stream",
     "text": [
      "..\\data\\ocr1\\img_29.jpg\n",
      "0.3296250980392157 0.6342078431372549\n"
     ]
    },
    {
     "name": "stderr",
     "output_type": "stream",
     "text": [
      "Lossy conversion from float64 to uint8. Range [0, 1]. Convert image to uint8 prior to saving to suppress this warning.\n"
     ]
    },
    {
     "name": "stdout",
     "output_type": "stream",
     "text": [
      "..\\data\\ocr1\\img_3.jpg\n",
      "0.2519090196078431 0.6500149019607843\n"
     ]
    },
    {
     "name": "stderr",
     "output_type": "stream",
     "text": [
      "Lossy conversion from float64 to uint8. Range [0, 1]. Convert image to uint8 prior to saving to suppress this warning.\n"
     ]
    },
    {
     "name": "stdout",
     "output_type": "stream",
     "text": [
      "..\\data\\ocr1\\img_4.jpg\n",
      "0.24768980392156864 0.6461458823529411\n"
     ]
    },
    {
     "name": "stderr",
     "output_type": "stream",
     "text": [
      "Lossy conversion from float64 to uint8. Range [0, 1]. Convert image to uint8 prior to saving to suppress this warning.\n"
     ]
    },
    {
     "name": "stdout",
     "output_type": "stream",
     "text": [
      "..\\data\\ocr1\\img_5.jpg\n",
      "0.2510458823529412 0.6602600000000001\n"
     ]
    },
    {
     "name": "stderr",
     "output_type": "stream",
     "text": [
      "Lossy conversion from float64 to uint8. Range [0, 1]. Convert image to uint8 prior to saving to suppress this warning.\n"
     ]
    },
    {
     "name": "stdout",
     "output_type": "stream",
     "text": [
      "..\\data\\ocr1\\img_6.jpg\n",
      "0.3196717647058824 0.6490309803921569\n"
     ]
    },
    {
     "name": "stderr",
     "output_type": "stream",
     "text": [
      "Lossy conversion from float64 to uint8. Range [0, 1]. Convert image to uint8 prior to saving to suppress this warning.\n"
     ]
    },
    {
     "name": "stdout",
     "output_type": "stream",
     "text": [
      "..\\data\\ocr1\\img_7.jpg\n",
      "0.2418258823529412 0.6466133333333335\n"
     ]
    },
    {
     "name": "stderr",
     "output_type": "stream",
     "text": [
      "Lossy conversion from float64 to uint8. Range [0, 1]. Convert image to uint8 prior to saving to suppress this warning.\n"
     ]
    },
    {
     "name": "stdout",
     "output_type": "stream",
     "text": [
      "..\\data\\ocr1\\img_8.jpg\n",
      "0.2146129411764706 0.6361650980392157\n"
     ]
    },
    {
     "name": "stderr",
     "output_type": "stream",
     "text": [
      "Lossy conversion from float64 to uint8. Range [0, 1]. Convert image to uint8 prior to saving to suppress this warning.\n"
     ]
    },
    {
     "name": "stdout",
     "output_type": "stream",
     "text": [
      "..\\data\\ocr1\\img_9.jpg\n",
      "0.24101529411764708 0.6312780392156864\n"
     ]
    },
    {
     "name": "stderr",
     "output_type": "stream",
     "text": [
      "Lossy conversion from float64 to uint8. Range [0, 1]. Convert image to uint8 prior to saving to suppress this warning.\n"
     ]
    }
   ],
   "source": [
    "source_path = Path('../data/ocr1/')\n",
    "save_path = Path('../data/partial_results/')\n",
    "save_path.mkdir(parents=True, exist_ok=True)\n",
    "\n",
    "images_paths = source_path.glob(\"*.jpg\")\n",
    "for image_path in images_paths:\n",
    "#     image_path = \"..\\data\\ocr1\\img_4.jpg\"\n",
    "    print(image_path)\n",
    "    img = io.imread(image_path)\n",
    "    img = rgb2gray(img)\n",
    "\n",
    "    img = to_binary_sheet_and_background(img)\n",
    "    io.imsave(arr=img, fname=save_path / (image_path.stem+'.png'))\n"
   ]
  },
  {
   "cell_type": "code",
   "execution_count": 255,
   "metadata": {},
   "outputs": [],
   "source": [
    "import numpy as np\n",
    "\n",
    "from skimage.transform import hough_line, hough_line_peaks\n",
    "from skimage.feature import canny\n",
    "from skimage import data\n",
    "\n",
    "import matplotlib.pyplot as plt\n",
    "from matplotlib import cm\n",
    "image = canny(img)\n",
    "tested_angles = np.linspace(-np.pi / 2, np.pi / 2, 360)\n",
    "h, theta, d = hough_line(image, theta=tested_angles)\n",
    "\n",
    "# Generating figure 1\n",
    "fig, axes = plt.subplots(1, 3, figsize=(15, 6))\n",
    "ax = axes.ravel()\n",
    "\n",
    "ax[0].imshow(image, cmap=cm.gray)\n",
    "ax[0].set_title('Input image')\n",
    "ax[0].set_axis_off()\n",
    "\n",
    "ax[1].imshow(np.log(1 + h),\n",
    "             extent=[np.rad2deg(theta[-1]), np.rad2deg(theta[0]), d[-1], d[0]],\n",
    "             cmap=cm.gray, aspect=1/1.5)\n",
    "ax[1].set_title('Hough transform')\n",
    "ax[1].set_xlabel('Angles (degrees)')\n",
    "ax[1].set_ylabel('Distance (pixels)')\n",
    "ax[1].axis('image')\n",
    "\n",
    "ax[2].imshow(image, cmap=cm.gray)\n",
    "origin = np.array((0, image.shape[1]))\n",
    "for _, angle, dist in zip(*hough_line_peaks(h, theta, d)):\n",
    "    y0, y1 = (dist - origin * np.cos(angle)) / np.sin(angle)\n",
    "    ax[2].plot(origin, (y0, y1), '-r')\n",
    "ax[2].set_xlim(origin)\n",
    "ax[2].set_ylim((image.shape[0], 0))\n",
    "ax[2].set_axis_off()\n",
    "ax[2].set_title('Detected lines')\n",
    "\n",
    "plt.tight_layout()\n",
    "plt.show()"
   ]
  },
  {
   "cell_type": "code",
   "execution_count": null,
   "metadata": {},
   "outputs": [],
   "source": []
  }
 ],
 "metadata": {
  "kernelspec": {
   "display_name": "Python 3",
   "language": "python",
   "name": "python3"
  },
  "language_info": {
   "codemirror_mode": {
    "name": "ipython",
    "version": 3
   },
   "file_extension": ".py",
   "mimetype": "text/x-python",
   "name": "python",
   "nbconvert_exporter": "python",
   "pygments_lexer": "ipython3",
   "version": "3.8.4"
  }
 },
 "nbformat": 4,
 "nbformat_minor": 4
}
