{
 "cells": [
  {
   "cell_type": "code",
   "execution_count": 1,
   "metadata": {},
   "outputs": [],
   "source": [
    "from pathlib import Path\n",
    "from skimage import io\n",
    "from skimage.io import find_available_plugins\n",
    "from matplotlib import pyplot as plt\n",
    "import PyQt5\n",
    "from skimage.filters import threshold_otsu, threshold_local, median\n",
    "from skimage.color import rgb2gray, gray2rgb\n",
    "from skimage.util import img_as_ubyte, img_as_bool\n",
    "from skimage.filters import gaussian, laplace\n",
    "from skimage.morphology import erosion, dilation, opening, closing\n",
    "from skimage.exposure import rescale_intensity, match_histograms\n",
    "from skimage import feature\n",
    "from collections import Counter\n",
    "import numpy as np\n",
    "from skimage.morphology import square\n",
    "from skimage.measure import approximate_polygon, subdivide_polygon, find_contours\n",
    "from skimage import draw\n",
    "from skimage.feature import canny\n",
    "from skimage.transform import probabilistic_hough_line\n",
    "import math\n",
    "%matplotlib qt \n",
    "\n"
   ]
  },
  {
   "cell_type": "code",
   "execution_count": 2,
   "metadata": {},
   "outputs": [],
   "source": [
    "from skimage.filters import threshold_multiotsu\n",
    "\n",
    "def local_thresholding(img):   \n",
    "#     img = rgb2gray(img)\n",
    "#     img = img_as_ubyte(img)\n",
    "#     height, width = img.shape\n",
    "#     temp = int((height+width)/10)\n",
    "#     block_size = temp if temp%2==1 else temp+1\n",
    "#     offset = np.mean(img.flatten())/2\n",
    "    local_thresh = threshold_local(img, 51, offset=0, method='gaussian')\n",
    "\n",
    "    binary_local = img > local_thresh\n",
    "    \n",
    "    return binary_local\n",
    "    \n",
    "def global_thresholding(img):   \n",
    "#     img = rgb2gray(img)\n",
    "#     img = img_as_ubyte(img)\n",
    "\n",
    "    global_thresh = threshold_otsu(img)\n",
    "    binary_global = img > global_thresh\n",
    "\n",
    "    return binary_global   \n",
    "\n",
    "def yen_thresholding(img):   \n",
    "#     img = rgb2gray(img)\n",
    "#     img = img_as_ubyte(img)\n",
    "\n",
    "    global_thresh = threshold_yen(img)\n",
    "    binary_global = img > global_thresh\n",
    "\n",
    "    return binary_global  \n",
    "\n",
    "def multi_thresholding(img):   \n",
    "\n",
    "\n",
    "    global_thresh = threshold_yen(img)\n",
    "    binary_global = img > global_thresh\n",
    "\n",
    "    return binary_global  \n",
    "\n"
   ]
  },
  {
   "cell_type": "code",
   "execution_count": 3,
   "metadata": {},
   "outputs": [],
   "source": [
    "# mu, sigma = 100, 15\n",
    "# img = io.imread('..\\data\\ocr1\\img_1.jpg')\n",
    "# img = rgb2gray(img)\n",
    "# print(img)\n",
    "# reference = np.zeros(img.shape)\n",
    "# height = int(reference.shape[0]/3)\n",
    "# reference[:height,:] = 0.0\n",
    "# reference[height:height*2,:] = 1.0\n",
    "# reference[height*2:,:] = 0.5\n",
    "# matched = match_histograms(img, reference, multichannel=False)\n",
    "\n",
    "# # plt.hist(img.ravel(), 256, density=True)\n",
    "# # plt.show()\n",
    "# io.imshow(matched)"
   ]
  },
  {
   "cell_type": "code",
   "execution_count": 4,
   "metadata": {},
   "outputs": [],
   "source": [
    "def to_binary_sheet_and_background(img):\n",
    "    img = gaussian(img)\n",
    "    # Contrast stretching\n",
    "    p2, p98 = np.percentile(img, (2, 98))\n",
    "    img = rescale_intensity(img, in_range=(p2, p98))\n",
    "\n",
    "\n",
    "    # dzielimy obraz na 4 części i w nich loklanie wykonujemy thresholding metodą otsu\n",
    "    width, height = img.shape\n",
    "    img[:int(height/2), :int(width/2)] = global_thresholding(img[:int(height/2), :int(width/2)])\n",
    "    img[:int(height/2), int(width/2):] = global_thresholding(img[:int(height/2), int(width/2):])\n",
    "    img[int(height/2):, :int(width/2)] = global_thresholding(img[int(height/2):, :int(width/2)])\n",
    "    img[int(height/2):, int(width/2):] = global_thresholding(img[int(height/2):, int(width/2):])\n",
    "    \n",
    "    return img\n",
    "\n",
    "def add_border_to_image(image, width_of_border=30, intensity=0.0):\n",
    "    (h, w) = image.shape\n",
    "    new_image_left_border = np.full((h,w+width_of_border), fill_value=intensity)\n",
    "    new_image_left_border[:,width_of_border:] = image\n",
    "    image = new_image_left_border\n",
    "    \n",
    "    (h, w) = image.shape\n",
    "    new_image_right_border = np.full((h,w+width_of_border), fill_value=intensity)\n",
    "    new_image_right_border[:,:-width_of_border] = image\n",
    "    image = new_image_right_border\n",
    "    \n",
    "    (h, w) = image.shape\n",
    "    new_image_bot_border = np.full((h+width_of_border,w), fill_value=intensity)\n",
    "    new_image_bot_border[:-width_of_border,:] = image\n",
    "    image = new_image_bot_border\n",
    "    \n",
    "    (h, w) = image.shape\n",
    "    new_image_top_border = np.full((h+width_of_border,w), fill_value=intensity)\n",
    "    new_image_top_border[width_of_border:,:] = image\n",
    "    image = new_image_top_border\n",
    "    return image\n"
   ]
  },
  {
   "cell_type": "code",
   "execution_count": 14,
   "metadata": {},
   "outputs": [
    {
     "name": "stdout",
     "output_type": "stream",
     "text": [
      "..\\data\\ocr1\\img_16.jpg\n"
     ]
    },
    {
     "name": "stderr",
     "output_type": "stream",
     "text": [
      "IOPub data rate exceeded.\n",
      "The notebook server will temporarily stop sending output\n",
      "to the client in order to avoid crashing it.\n",
      "To change this limit, set the config variable\n",
      "`--NotebookApp.iopub_data_rate_limit`.\n",
      "\n",
      "Current values:\n",
      "NotebookApp.iopub_data_rate_limit=1000000.0 (bytes/sec)\n",
      "NotebookApp.rate_limit_window=3.0 (secs)\n",
      "\n"
     ]
    }
   ],
   "source": [
    "image_path = \"..\\data\\ocr1\\img_16.jpg\"\n",
    "print(image_path)\n",
    "img = io.imread(image_path)\n",
    "img = rgb2gray(img)\n",
    "img = canny(img)\n",
    "img = find_contours(img, level=)\n",
    "print(img)\n",
    "# io.imshow(img)"
   ]
  },
  {
   "cell_type": "code",
   "execution_count": 53,
   "metadata": {},
   "outputs": [
    {
     "name": "stdout",
     "output_type": "stream",
     "text": [
      "..\\data\\ocr1\\img_1.jpg\n",
      "79\n",
      "..\\data\\ocr1\\img_10.jpg\n",
      "71\n",
      "..\\data\\ocr1\\img_11.jpg\n",
      "229\n",
      "..\\data\\ocr1\\img_12.jpg\n",
      "499\n",
      "..\\data\\ocr1\\img_13.jpg\n",
      "71\n",
      "..\\data\\ocr1\\img_14.jpg\n",
      "173\n",
      "..\\data\\ocr1\\img_15.jpg\n",
      "183\n",
      "..\\data\\ocr1\\img_16.jpg\n",
      "62\n",
      "..\\data\\ocr1\\img_17.jpg\n",
      "41\n",
      "..\\data\\ocr1\\img_18.jpg\n",
      "112\n",
      "..\\data\\ocr1\\img_19.jpg\n",
      "254\n",
      "..\\data\\ocr1\\img_2.jpg\n",
      "68\n",
      "..\\data\\ocr1\\img_20.jpg\n",
      "24\n",
      "..\\data\\ocr1\\img_21.jpg\n",
      "61\n",
      "..\\data\\ocr1\\img_22.jpg\n",
      "1\n",
      "..\\data\\ocr1\\img_23.jpg\n",
      "2\n",
      "..\\data\\ocr1\\img_24.jpg\n",
      "5\n",
      "..\\data\\ocr1\\img_25.jpg\n",
      "2\n",
      "..\\data\\ocr1\\img_26.jpg\n",
      "342\n",
      "..\\data\\ocr1\\img_27.jpg\n",
      "15\n",
      "..\\data\\ocr1\\img_28.jpg\n",
      "2\n",
      "..\\data\\ocr1\\img_29.jpg\n",
      "1\n",
      "..\\data\\ocr1\\img_3.jpg\n",
      "188\n",
      "..\\data\\ocr1\\img_4.jpg\n",
      "51\n",
      "..\\data\\ocr1\\img_5.jpg\n",
      "441\n",
      "..\\data\\ocr1\\img_6.jpg\n",
      "900\n",
      "..\\data\\ocr1\\img_7.jpg\n",
      "218\n",
      "..\\data\\ocr1\\img_8.jpg\n",
      "661\n",
      "..\\data\\ocr1\\img_9.jpg\n",
      "437\n"
     ]
    }
   ],
   "source": [
    "# wycinanie największego konturru z opencv\n",
    "import numpy as np\n",
    "import cv2\n",
    "DEBUG = False\n",
    "\n",
    "def show_window(name, image, debug=False):\n",
    "    cv2.imwrite(\"./assets/output/\" + name + \".png\", image)\n",
    "    if debug or DEBUG:\n",
    "        cv2.namedWindow(name, cv2.WINDOW_NORMAL)\n",
    "        cv2.resizeWindow(name, (600, 600))\n",
    "        cv2.imshow(name, image)\n",
    "        cv2.waitKey(0)\n",
    "        \n",
    "def get_biggest_intensity_contour(contours):\n",
    "    sorted_contours = sorted(contours, key=cv2.contourArea, reverse=True)\n",
    "    biggest_contour = sorted_contours[0]\n",
    "    return biggest_contour\n",
    "\n",
    "def get_rotated_image_from_contour(img, contour):\n",
    "    \"\"\" Returns a rotated version of img based on cv2.minAreaRect of contour.\n",
    "        First side, (i.e most left to top edge) is always \"Width\" from minAreaRect.\n",
    "        If our width > height, we know we have the sheet rotated to the right. \n",
    "        We need to shift our angle and width 90 degree in order to get the correct\n",
    "        coordinates from cv2.boxPoints\n",
    "    \"\"\"\n",
    "    rotated_rect = cv2.minAreaRect(contour)\n",
    "\n",
    "    # Get the center x,y and width and height.\n",
    "    x_center = int(rotated_rect[0][0])\n",
    "    y_center = int(rotated_rect[0][1])\n",
    "    width = int(rotated_rect[1][0])\n",
    "    height = int(rotated_rect[1][1])\n",
    "    angle_degrees = rotated_rect[2]\n",
    "\n",
    "    if(width > height):\n",
    "        temp_height = height\n",
    "        height = width\n",
    "        width = temp_height\n",
    "        angle_degrees = 90 + angle_degrees\n",
    "\n",
    "    # Reassign rotated rect with updated values\n",
    "    rotated_rect = ((x_center, y_center), (width, height), angle_degrees)\n",
    "    # Find the 4 (x,y) coordinates for the rotated rectangle, order: bl, tl,tr, br\n",
    "    rect_box_points = cv2.boxPoints(rotated_rect)\n",
    "\n",
    "    img_debug_contour = img.copy()\n",
    "    cv2.drawContours(img_debug_contour, [contour], 0, (0, 0, 255), 3)\n",
    "    show_window('biggest_contour', img_debug_contour)\n",
    "\n",
    "    img_debug = img.copy()\n",
    "    cv2.drawContours(img_debug, [np.int0(rect_box_points)], 0, (0, 0, 255), 3)\n",
    "    show_window('min_area_rect_original_image', img_debug)\n",
    "\n",
    "    # Prepare for rotation transformation\n",
    "    src_pts = rect_box_points.astype(\"float32\")\n",
    "    dst_pts = np.array([\n",
    "        [0, height-1],  # Bottom Left\n",
    "        [0, 0],  # Top Left\n",
    "        [width-1, 0],  # Top Right\n",
    "    ], dtype=\"float32\")\n",
    "\n",
    "    # Affine rotation transformation\n",
    "    ROTATION_MAT = cv2.getAffineTransform(src_pts[:3], dst_pts)\n",
    "    return cv2.warpAffine(\n",
    "        img, ROTATION_MAT, (width, height))\n",
    "\n",
    "\n",
    "source_path = Path('../data/ocr1/')\n",
    "save_path = Path('../data/partial_results/CV2_2')\n",
    "save_path.mkdir(parents=True, exist_ok=True)\n",
    "\n",
    "images_paths = source_path.glob(\"*.jpg\")\n",
    "for image_path in images_paths:\n",
    "#     image_path = \"..\\data\\ocr1\\img_16.jpg\"\n",
    "    print(image_path)\n",
    "    img = cv2.imread(str(image_path), cv2.IMREAD_GRAYSCALE)\n",
    "\n",
    "    kernel = np.ones((10,10),np.uint8)\n",
    "    img = cv2.morphologyEx(img, cv2.MORPH_CLOSE, kernel)\n",
    "    ret,thresh = cv2.threshold(img,127,255, cv2.THRESH_BINARY)\n",
    "    contours, _ = cv2.findContours(img, cv2.RETR_EXTERNAL, cv2.CHAIN_APPROX_SIMPLE)\n",
    "\n",
    "    print(len(contours))\n",
    "    biggest_contour = get_biggest_intensity_contour(contours)\n",
    "    img_raw_yatzy_sheet = get_rotated_image_from_contour(img, biggest_contour)\n",
    "    \n",
    "    cv2.imwrite(str(save_path / (image_path.stem+'.png')), img_raw_yatzy_sheet)\n",
    "#     break\n",
    "\n",
    "# cv2.namedWindow(\"elo\",cv2.WINDOW_NORMAL)\n",
    "# cv2.resizeWindow(\"elo\", int(img_raw_yatzy_sheet.shape[1]/2), int(img_raw_yatzy_sheet.shape[0]/2))\n",
    "# cv2.imshow(\"elo\", img_raw_yatzy_sheet)"
   ]
  },
  {
   "cell_type": "code",
   "execution_count": 94,
   "metadata": {},
   "outputs": [
    {
     "name": "stdout",
     "output_type": "stream",
     "text": [
      "..\\data\\ocr1\\img_16.jpg\n"
     ]
    }
   ],
   "source": [
    "source_path = Path('../data/ocr1/')\n",
    "save_path = Path('../data/partial_results/local')\n",
    "save_path.mkdir(parents=True, exist_ok=True)\n",
    "\n",
    "images_paths = source_path.glob(\"*.jpg\")\n",
    "for image_path in images_paths:\n",
    "    image_path = \"..\\data\\ocr1\\img_16.jpg\"\n",
    "    print(image_path)\n",
    "    img = io.imread(image_path)\n",
    "    img = rgb2gray(img)\n",
    "    \n",
    "#     img = gaussian(img)\n",
    "    img = local_thresholding(img)\n",
    "    img = laplace(img)\n",
    "    img = global_thresholding(img)\n",
    "#     img = gaussian(img)\n",
    "#     img = closing(img, square(10))\n",
    "#     img = to_binary_sheet_and_background(img)\n",
    "#     io.imsave(arr=img_as_ubyte(img), fname=save_path / (image_path.stem+'.png'))\n",
    "    io.imshow(img)\n",
    "    break"
   ]
  },
  {
   "cell_type": "code",
   "execution_count": 33,
   "metadata": {},
   "outputs": [],
   "source": [
    "\n",
    "import matplotlib.pyplot as plt\n",
    "import matplotlib.patches as mpatches\n",
    "\n",
    "from skimage import data\n",
    "from skimage.filters import threshold_otsu\n",
    "from skimage.segmentation import clear_border\n",
    "from skimage.measure import label, regionprops\n",
    "from skimage.morphology import closing, square\n",
    "from skimage.color import label2rgb\n",
    "\n",
    "\n",
    "image = io.imread('..\\data\\partial_results\\img_3.png')\n",
    "image = closing(image, square(10))\n",
    "# apply threshold\n",
    "# thresh = threshold_otsu(image)\n",
    "# bw = closing(image > thresh, square(3))\n",
    "\n",
    "# remove artifacts connected to image border\n",
    "# cleared = clear_border(bw)\n",
    "\n",
    "# label image regions\n",
    "label_image = label(image)\n",
    "# to make the background transparent, pass the value of `bg_label`,\n",
    "# and leave `bg_color` as `None` and `kind` as `overlay`\n",
    "image_label_overlay = label2rgb(label_image, image=image, bg_label=0)\n",
    "\n",
    "fig, ax = plt.subplots(figsize=(10, 6))\n",
    "ax.imshow(image_label_overlay)\n",
    "\n",
    "for region in regionprops(label_image):\n",
    "    # take regions with large enough areas\n",
    "    if region.area >= 100000:\n",
    "        # draw rectangle around segmented coins\n",
    "        minr, minc, maxr, maxc = region.bbox\n",
    "        rect = mpatches.Rectangle((minc, minr), maxc - minc, maxr - minr,\n",
    "                                  fill=False, edgecolor='red', linewidth=2)\n",
    "        ax.add_patch(rect)\n",
    "\n",
    "ax.set_axis_off()\n",
    "plt.tight_layout()\n",
    "plt.show()"
   ]
  },
  {
   "cell_type": "code",
   "execution_count": 56,
   "metadata": {},
   "outputs": [],
   "source": [
    "# kwadrat = np.array([[0,0,0,0,0],\n",
    "#            [0,1,1,1,0],\n",
    "#            [0,1,0,1,0],\n",
    "#            [0,1,1,1,0],\n",
    "#            [0,0,0,0,0]])\n",
    "# x, y = np.where(kwadrat==1)\n",
    "# contour_pos = np.array(list(zip(x,y)))\n",
    "# contour_pos = np.array([np.array(a) for a in contour_pos])\n",
    "# contour_pos\n",
    "# contour_pos = np.reshape(contour_pos, (-1, 1, 2))\n",
    "\n",
    "\n",
    "# import numpy as np\n",
    "# import cv2 as cv\n",
    "# img = cv.imread('..\\data\\partial_results\\img_1.png',0)\n",
    "# kernel = np.ones((10,10),np.uint8)\n",
    "# img = cv.morphologyEx(img, cv.MORPH_CLOSE, kernel)\n",
    "# ret,thresh = cv.threshold(img,127,255,0)\n",
    "# contours,hierarchy = cv.findContours(thresh, 1, 2)\n",
    "# print((contours[0]))\n",
    "# cnt = contours[0]\n",
    "# print(contour_pos)\n",
    "# M = cv.moments(contour_pos)\n",
    "# print( M['m00'] )"
   ]
  },
  {
   "cell_type": "code",
   "execution_count": 56,
   "metadata": {},
   "outputs": [],
   "source": [
    "def get_points_and_angles_in_image(image):\n",
    "    possible_baseline_points = find_corners(image)\n",
    "    angles_of_points = list()\n",
    "    for point in possible_baseline_points:\n",
    "        angle = get_angle_of_point_using_hough(image, point)\n",
    "        angles_of_points.append(angle)\n",
    "\n",
    "    return possible_baseline_points, angles_of_points\n",
    "\n",
    "def find_corners(image):\n",
    "    contours = find_contours(image, level=10)\n",
    "    most_n_of_points = len(contours[0])\n",
    "    most_n_of_points_countour_index = 0\n",
    "    for i, contour in enumerate(contours):\n",
    "        temp = len(contour)\n",
    "        if temp > most_n_of_points:\n",
    "            most_n_of_points = temp\n",
    "            most_n_of_points_countour_index = i\n",
    "    \n",
    "    contour = contours[most_n_of_points_countour_index]\n",
    "    \n",
    "    appr_pol = list(approximate_polygon(contour, tolerance=10)[:-1]) \n",
    "    appr_pol = np.around(np.array(appr_pol))\n",
    "    appr_pol = corner_subpix(image, appr_pol, window_size=50)\n",
    "    appr_pol = appr_pol[~np.isnan(appr_pol).any(axis=1)]\n",
    "    appr_pol = list(appr_pol)\n",
    "#     appr_pol = appr_pol+appr_pol[:1]\n",
    "    return appr_pol\n",
    "\n",
    "def get_angle_of_point_using_hough(image, point):\n",
    "    slice_of_image, _ = slice_image_in_radius(image, point, radius=100)\n",
    "    slice_of_image = opening(slice_of_image, square(1))\n",
    "    list_of_angles = get_list_of_different_angles_in_image_using_hough(image=slice_of_image)\n",
    "#     points = corner_peaks(corner_harris(slice_of_image), min_distance=10)\n",
    "#     if len(points) > 0:\n",
    "#         point = points[0]\n",
    "    if len(list_of_angles) == 2:\n",
    "        angle_between_lines = abs(list_of_angles[0]-list_of_angles[1])\n",
    "        return angle_between_lines\n",
    "    \n",
    "    return None\n",
    "\n",
    "def slice_image_in_radius(image, point, radius):\n",
    "    (height, width) = point\n",
    "    height = int(height)\n",
    "    width = int(width)\n",
    "    (image_height, image_width) = image.shape\n",
    "    \n",
    "\n",
    "    point_height_in_sliced_image = radius+1\n",
    "    point_width_in_sliced_image = radius+1\n",
    "    if height-radius < 0 :\n",
    "        point_height_in_sliced_image = radius - (radius-height)\n",
    "    if width-radius < 0:\n",
    "        point_width_in_sliced_image = radius - (radius-width)\n",
    "    middle_point = (point_height_in_sliced_image, point_width_in_sliced_image)\n",
    "\n",
    "    right_width_min = clamp(width-radius-1, 0, image_width)\n",
    "    right_width_max = clamp(width+radius+1, 0, image_width)\n",
    "    right_height_min = clamp(height-radius-1, 0, image_height)\n",
    "    right_height_max = clamp(height+radius+1, 0, image_height)\n",
    "    slice_of_image = image[right_height_min:right_height_max, right_width_min:right_width_max]\n",
    "    return slice_of_image, middle_point\n",
    "\n",
    "def get_list_of_different_angles_in_image_using_hough(image):\n",
    "    edges = canny(image)\n",
    "    lines = probabilistic_hough_line(edges, \n",
    "                                     threshold=10, \n",
    "                                     line_length=50,\n",
    "                                     line_gap=1)\n",
    "    list_of_angles = [get_angle_of_line(line) for line in lines]\n",
    "    list_of_angles_no_duplicates = list()\n",
    "#     print(len(lines))\n",
    "    \n",
    "    for angle in list_of_angles:\n",
    "        add = True\n",
    "        for added_angle in list_of_angles_no_duplicates:\n",
    "            if compare_2_numbers_with_range(added_angle, angle, 5):\n",
    "                add = False\n",
    "        if add:\n",
    "            list_of_angles_no_duplicates.append(angle)\n",
    "                \n",
    "    # np. kąty -176 i 180 są obok siebie, zależą od zwrotu, to samo z kątem 90\n",
    "    # tutaj usuwamy takie przypadki, żeby mieć na penwo różne kąty\n",
    "    exists_90 = False\n",
    "    exists_180 = False\n",
    "    modified_list_of_angles = list()\n",
    "    for angle in list_of_angles_no_duplicates:\n",
    "        if compare_2_numbers_with_range(90, abs(angle), 5):\n",
    "            if exists_90 == False:\n",
    "                exists_90 = True\n",
    "                modified_list_of_angles.append(angle)\n",
    "        elif compare_2_numbers_with_range(180, abs(angle), 5) or compare_2_numbers_with_range(0, abs(angle), 5):\n",
    "            if exists_180 == False:\n",
    "                exists_180 = True\n",
    "                modified_list_of_angles.append(angle)\n",
    "        else:\n",
    "            modified_list_of_angles.append(angle)\n",
    "    \n",
    "    return modified_list_of_angles\n",
    "\n",
    "def clamp(n, smallest, largest): \n",
    "    return max(smallest, min(n, largest))\n",
    "\n",
    "def get_angle_of_line(line):\n",
    "    (point1, point2) = line\n",
    "    angle = math.atan2(point2[1] - point1[1], point2[0] - point1[0]) * 180 / np.pi\n",
    "    return angle #if angle >= 0 else 180+angle\n",
    "\n",
    "def compare_2_numbers_with_range(n1, n2, range=3):\n",
    "    difference = abs(n1-n2)\n",
    "    return difference <= range"
   ]
  },
  {
   "cell_type": "code",
   "execution_count": 57,
   "metadata": {},
   "outputs": [
    {
     "data": {
      "text/plain": [
       "<matplotlib.image.AxesImage at 0x20703f4f460>"
      ]
     },
     "execution_count": 57,
     "metadata": {},
     "output_type": "execute_result"
    }
   ],
   "source": [
    "image = io.imread('..\\data\\partial_results\\img_4.png')\n",
    "image = closing(image, square(10))\n",
    "image = add_border_to_image(image, width_of_border=100)\n",
    "slice_of_image, _ = slice_image_in_radius(rgb2gray(image), (382, 150), radius=100)\n",
    "io.imshow(image)"
   ]
  },
  {
   "cell_type": "code",
   "execution_count": 62,
   "metadata": {},
   "outputs": [
    {
     "name": "stdout",
     "output_type": "stream",
     "text": [
      "..\\data\\partial_results\\img_1.png\n"
     ]
    },
    {
     "name": "stderr",
     "output_type": "stream",
     "text": [
      "Lossy conversion from float64 to uint8. Range [0.0, 255.0]. Convert image to uint8 prior to saving to suppress this warning.\n"
     ]
    },
    {
     "name": "stdout",
     "output_type": "stream",
     "text": [
      "..\\data\\partial_results\\img_10.png\n"
     ]
    },
    {
     "name": "stderr",
     "output_type": "stream",
     "text": [
      "Lossy conversion from float64 to uint8. Range [0.0, 255.0]. Convert image to uint8 prior to saving to suppress this warning.\n"
     ]
    },
    {
     "name": "stdout",
     "output_type": "stream",
     "text": [
      "..\\data\\partial_results\\img_11.png\n"
     ]
    },
    {
     "name": "stderr",
     "output_type": "stream",
     "text": [
      "Lossy conversion from float64 to uint8. Range [0.0, 255.0]. Convert image to uint8 prior to saving to suppress this warning.\n"
     ]
    },
    {
     "name": "stdout",
     "output_type": "stream",
     "text": [
      "..\\data\\partial_results\\img_12.png\n"
     ]
    },
    {
     "name": "stderr",
     "output_type": "stream",
     "text": [
      "Lossy conversion from float64 to uint8. Range [0.0, 255.0]. Convert image to uint8 prior to saving to suppress this warning.\n"
     ]
    },
    {
     "name": "stdout",
     "output_type": "stream",
     "text": [
      "..\\data\\partial_results\\img_13.png\n"
     ]
    },
    {
     "name": "stderr",
     "output_type": "stream",
     "text": [
      "Lossy conversion from float64 to uint8. Range [0.0, 255.0]. Convert image to uint8 prior to saving to suppress this warning.\n"
     ]
    },
    {
     "name": "stdout",
     "output_type": "stream",
     "text": [
      "..\\data\\partial_results\\img_14.png\n"
     ]
    },
    {
     "name": "stderr",
     "output_type": "stream",
     "text": [
      "Lossy conversion from float64 to uint8. Range [0.0, 255.0]. Convert image to uint8 prior to saving to suppress this warning.\n"
     ]
    },
    {
     "name": "stdout",
     "output_type": "stream",
     "text": [
      "..\\data\\partial_results\\img_15.png\n"
     ]
    },
    {
     "name": "stderr",
     "output_type": "stream",
     "text": [
      "Lossy conversion from float64 to uint8. Range [0.0, 255.0]. Convert image to uint8 prior to saving to suppress this warning.\n"
     ]
    },
    {
     "name": "stdout",
     "output_type": "stream",
     "text": [
      "..\\data\\partial_results\\img_16.png\n"
     ]
    },
    {
     "name": "stderr",
     "output_type": "stream",
     "text": [
      "Lossy conversion from float64 to uint8. Range [0.0, 255.0]. Convert image to uint8 prior to saving to suppress this warning.\n"
     ]
    },
    {
     "name": "stdout",
     "output_type": "stream",
     "text": [
      "..\\data\\partial_results\\img_17.png\n"
     ]
    },
    {
     "name": "stderr",
     "output_type": "stream",
     "text": [
      "Lossy conversion from float64 to uint8. Range [0.0, 255.0]. Convert image to uint8 prior to saving to suppress this warning.\n"
     ]
    },
    {
     "name": "stdout",
     "output_type": "stream",
     "text": [
      "..\\data\\partial_results\\img_18.png\n"
     ]
    },
    {
     "name": "stderr",
     "output_type": "stream",
     "text": [
      "Lossy conversion from float64 to uint8. Range [0.0, 255.0]. Convert image to uint8 prior to saving to suppress this warning.\n"
     ]
    },
    {
     "name": "stdout",
     "output_type": "stream",
     "text": [
      "..\\data\\partial_results\\img_19.png\n"
     ]
    },
    {
     "name": "stderr",
     "output_type": "stream",
     "text": [
      "Lossy conversion from float64 to uint8. Range [0.0, 255.0]. Convert image to uint8 prior to saving to suppress this warning.\n"
     ]
    },
    {
     "name": "stdout",
     "output_type": "stream",
     "text": [
      "..\\data\\partial_results\\img_2.png\n"
     ]
    },
    {
     "name": "stderr",
     "output_type": "stream",
     "text": [
      "Lossy conversion from float64 to uint8. Range [0.0, 255.0]. Convert image to uint8 prior to saving to suppress this warning.\n"
     ]
    },
    {
     "name": "stdout",
     "output_type": "stream",
     "text": [
      "..\\data\\partial_results\\img_20.png\n"
     ]
    },
    {
     "name": "stderr",
     "output_type": "stream",
     "text": [
      "Lossy conversion from float64 to uint8. Range [0.0, 255.0]. Convert image to uint8 prior to saving to suppress this warning.\n"
     ]
    },
    {
     "name": "stdout",
     "output_type": "stream",
     "text": [
      "..\\data\\partial_results\\img_21.png\n"
     ]
    },
    {
     "name": "stderr",
     "output_type": "stream",
     "text": [
      "Lossy conversion from float64 to uint8. Range [0.0, 255.0]. Convert image to uint8 prior to saving to suppress this warning.\n"
     ]
    },
    {
     "name": "stdout",
     "output_type": "stream",
     "text": [
      "..\\data\\partial_results\\img_22.png\n"
     ]
    },
    {
     "name": "stderr",
     "output_type": "stream",
     "text": [
      "Lossy conversion from float64 to uint8. Range [0.0, 255.0]. Convert image to uint8 prior to saving to suppress this warning.\n"
     ]
    },
    {
     "name": "stdout",
     "output_type": "stream",
     "text": [
      "..\\data\\partial_results\\img_23.png\n"
     ]
    },
    {
     "name": "stderr",
     "output_type": "stream",
     "text": [
      "Lossy conversion from float64 to uint8. Range [0.0, 255.0]. Convert image to uint8 prior to saving to suppress this warning.\n"
     ]
    },
    {
     "name": "stdout",
     "output_type": "stream",
     "text": [
      "..\\data\\partial_results\\img_24.png\n"
     ]
    },
    {
     "name": "stderr",
     "output_type": "stream",
     "text": [
      "Lossy conversion from float64 to uint8. Range [0.0, 255.0]. Convert image to uint8 prior to saving to suppress this warning.\n"
     ]
    },
    {
     "name": "stdout",
     "output_type": "stream",
     "text": [
      "..\\data\\partial_results\\img_25.png\n"
     ]
    },
    {
     "name": "stderr",
     "output_type": "stream",
     "text": [
      "Lossy conversion from float64 to uint8. Range [0.0, 255.0]. Convert image to uint8 prior to saving to suppress this warning.\n"
     ]
    },
    {
     "name": "stdout",
     "output_type": "stream",
     "text": [
      "..\\data\\partial_results\\img_26.png\n"
     ]
    },
    {
     "name": "stderr",
     "output_type": "stream",
     "text": [
      "Lossy conversion from float64 to uint8. Range [0.0, 255.0]. Convert image to uint8 prior to saving to suppress this warning.\n"
     ]
    },
    {
     "name": "stdout",
     "output_type": "stream",
     "text": [
      "..\\data\\partial_results\\img_27.png\n"
     ]
    },
    {
     "name": "stderr",
     "output_type": "stream",
     "text": [
      "Lossy conversion from float64 to uint8. Range [0.0, 255.0]. Convert image to uint8 prior to saving to suppress this warning.\n"
     ]
    },
    {
     "name": "stdout",
     "output_type": "stream",
     "text": [
      "..\\data\\partial_results\\img_28.png\n"
     ]
    },
    {
     "name": "stderr",
     "output_type": "stream",
     "text": [
      "Lossy conversion from float64 to uint8. Range [0.0, 255.0]. Convert image to uint8 prior to saving to suppress this warning.\n"
     ]
    },
    {
     "name": "stdout",
     "output_type": "stream",
     "text": [
      "..\\data\\partial_results\\img_29.png\n"
     ]
    },
    {
     "name": "stderr",
     "output_type": "stream",
     "text": [
      "Lossy conversion from float64 to uint8. Range [0.0, 255.0]. Convert image to uint8 prior to saving to suppress this warning.\n"
     ]
    },
    {
     "name": "stdout",
     "output_type": "stream",
     "text": [
      "..\\data\\partial_results\\img_3.png\n"
     ]
    },
    {
     "name": "stderr",
     "output_type": "stream",
     "text": [
      "Lossy conversion from float64 to uint8. Range [0.0, 255.0]. Convert image to uint8 prior to saving to suppress this warning.\n"
     ]
    },
    {
     "name": "stdout",
     "output_type": "stream",
     "text": [
      "..\\data\\partial_results\\img_4.png\n"
     ]
    },
    {
     "name": "stderr",
     "output_type": "stream",
     "text": [
      "Lossy conversion from float64 to uint8. Range [0.0, 255.0]. Convert image to uint8 prior to saving to suppress this warning.\n"
     ]
    },
    {
     "name": "stdout",
     "output_type": "stream",
     "text": [
      "..\\data\\partial_results\\img_5.png\n"
     ]
    },
    {
     "name": "stderr",
     "output_type": "stream",
     "text": [
      "Lossy conversion from float64 to uint8. Range [0.0, 255.0]. Convert image to uint8 prior to saving to suppress this warning.\n"
     ]
    },
    {
     "name": "stdout",
     "output_type": "stream",
     "text": [
      "..\\data\\partial_results\\img_6.png\n"
     ]
    },
    {
     "name": "stderr",
     "output_type": "stream",
     "text": [
      "Lossy conversion from float64 to uint8. Range [0.0, 255.0]. Convert image to uint8 prior to saving to suppress this warning.\n"
     ]
    },
    {
     "name": "stdout",
     "output_type": "stream",
     "text": [
      "..\\data\\partial_results\\img_7.png\n"
     ]
    },
    {
     "name": "stderr",
     "output_type": "stream",
     "text": [
      "Lossy conversion from float64 to uint8. Range [0.0, 255.0]. Convert image to uint8 prior to saving to suppress this warning.\n"
     ]
    },
    {
     "name": "stdout",
     "output_type": "stream",
     "text": [
      "..\\data\\partial_results\\img_8.png\n"
     ]
    },
    {
     "name": "stderr",
     "output_type": "stream",
     "text": [
      "Lossy conversion from float64 to uint8. Range [0.0, 255.0]. Convert image to uint8 prior to saving to suppress this warning.\n"
     ]
    },
    {
     "name": "stdout",
     "output_type": "stream",
     "text": [
      "..\\data\\partial_results\\img_9.png\n"
     ]
    },
    {
     "name": "stderr",
     "output_type": "stream",
     "text": [
      "Lossy conversion from float64 to uint8. Range [0.0, 255.0]. Convert image to uint8 prior to saving to suppress this warning.\n"
     ]
    }
   ],
   "source": [
    "from matplotlib import pyplot as plt\n",
    "\n",
    "from skimage import data\n",
    "from skimage.feature import corner_harris, corner_subpix, corner_peaks\n",
    "from skimage.transform import warp, AffineTransform\n",
    "from skimage.draw import ellipse\n",
    "\n",
    "source_path = Path('../data/partial_results/')\n",
    "save_path = Path('../data/partial_results/corners')\n",
    "save_path.mkdir(parents=True, exist_ok=True)\n",
    "\n",
    "images_paths = source_path.glob(\"*.png\")\n",
    "for image_path in images_paths:\n",
    "    print(image_path) \n",
    "    image = io.imread(image_path)\n",
    "    image = closing(image, square(10))\n",
    "\n",
    "\n",
    "    # coords = corner_peaks(corner_harris(image), min_distance=100, threshold_rel=0.02)\n",
    "    # coords_subpix = corner_subpix(image, coords, window_size=100)\n",
    "    image = add_border_to_image(image, width_of_border=100)\n",
    "    points, angles = get_points_and_angles_in_image(image)\n",
    "    image = gray2rgb(image)\n",
    "#     print(np.array(points))\n",
    "#     print(angles)\n",
    "\n",
    "#     app = approximate_polygon(np.array(points), 500)\n",
    "#     for point in app:\n",
    "#         y, x = draw.circle(point[0], point[1], radius=10)\n",
    "#         image[y,x] = (255,0,0)\n",
    "            \n",
    "            \n",
    "    for point, angle in zip(points, angles):\n",
    "        if (angle is not None) and (compare_2_numbers_with_range(90, angle, 10) or compare_2_numbers_with_range(270, angle, 10)):\n",
    "            y, x = draw.circle(point[0], point[1], radius=10)\n",
    "            image[y,x] = (255,0,0)\n",
    "    break\n",
    "    io.imsave(arr=image, fname=save_path / (image_path.stem+'.png'))\n",
    "\n",
    "\n",
    "\n"
   ]
  },
  {
   "cell_type": "code",
   "execution_count": 255,
   "metadata": {},
   "outputs": [],
   "source": [
    "import numpy as np\n",
    "\n",
    "from skimage.transform import hough_line, hough_line_peaks\n",
    "from skimage.feature import canny\n",
    "from skimage import data\n",
    "\n",
    "import matplotlib.pyplot as plt\n",
    "from matplotlib import cm\n",
    "image = canny(img)\n",
    "tested_angles = np.linspace(-np.pi / 2, np.pi / 2, 360)\n",
    "h, theta, d = hough_line(image, theta=tested_angles)\n",
    "\n",
    "# Generating figure 1\n",
    "fig, axes = plt.subplots(1, 3, figsize=(15, 6))\n",
    "ax = axes.ravel()\n",
    "\n",
    "ax[0].imshow(image, cmap=cm.gray)\n",
    "ax[0].set_title('Input image')\n",
    "ax[0].set_axis_off()\n",
    "\n",
    "ax[1].imshow(np.log(1 + h),\n",
    "             extent=[np.rad2deg(theta[-1]), np.rad2deg(theta[0]), d[-1], d[0]],\n",
    "             cmap=cm.gray, aspect=1/1.5)\n",
    "ax[1].set_title('Hough transform')\n",
    "ax[1].set_xlabel('Angles (degrees)')\n",
    "ax[1].set_ylabel('Distance (pixels)')\n",
    "ax[1].axis('image')\n",
    "\n",
    "ax[2].imshow(image, cmap=cm.gray)\n",
    "origin = np.array((0, image.shape[1]))\n",
    "for _, angle, dist in zip(*hough_line_peaks(h, theta, d)):\n",
    "    y0, y1 = (dist - origin * np.cos(angle)) / np.sin(angle)\n",
    "    ax[2].plot(origin, (y0, y1), '-r')\n",
    "ax[2].set_xlim(origin)\n",
    "ax[2].set_ylim((image.shape[0], 0))\n",
    "ax[2].set_axis_off()\n",
    "ax[2].set_title('Detected lines')\n",
    "\n",
    "plt.tight_layout()\n",
    "plt.show()"
   ]
  },
  {
   "cell_type": "code",
   "execution_count": null,
   "metadata": {},
   "outputs": [],
   "source": []
  }
 ],
 "metadata": {
  "kernelspec": {
   "display_name": "Python 3",
   "language": "python",
   "name": "python3"
  },
  "language_info": {
   "codemirror_mode": {
    "name": "ipython",
    "version": 3
   },
   "file_extension": ".py",
   "mimetype": "text/x-python",
   "name": "python",
   "nbconvert_exporter": "python",
   "pygments_lexer": "ipython3",
   "version": "3.8.4"
  }
 },
 "nbformat": 4,
 "nbformat_minor": 4
}
