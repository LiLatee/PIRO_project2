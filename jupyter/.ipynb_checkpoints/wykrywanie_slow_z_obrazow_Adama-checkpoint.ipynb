{
 "cells": [
  {
   "cell_type": "code",
   "execution_count": 3,
   "metadata": {},
   "outputs": [],
   "source": [
    "import numpy as np\n",
    "from pathlib import Path\n",
    "from skimage import io\n",
    "from skimage import color\n",
    "from skimage import measure\n",
    "from skimage import morphology\n",
    "from skimage import transform\n",
    "%matplotlib qt"
   ]
  },
  {
   "cell_type": "code",
   "execution_count": 5,
   "metadata": {},
   "outputs": [],
   "source": [
    "def detect_lines_of_text(img):    \n",
    "    # obliczamy średnią jasność wierszy w obrazie\n",
    "    sum_of_rows = np.sum(img, axis=1) \n",
    "    mean_row_value = np.mean(sum_of_rows)\n",
    "    \n",
    "    # wiersze poniżej średniej jasności zerujemy (usuwa np. ogonki liter nachodzących na kolejne wiersze)\n",
    "    for i, row in enumerate(img):\n",
    "        if np.sum(row) < mean_row_value:\n",
    "            row = np.zeros(row.shape)\n",
    "            img[i] = row\n",
    "        \n",
    "    # zaznaczamy obszary, które są powyżej średniej (całe wiersze)\n",
    "    for i, row in enumerate(img):\n",
    "        if np.mean(row) > 0.0:\n",
    "            img[i:i+1, :] = 1 \n",
    "            \n",
    "    # łączenie lekko rozdzielonych linijek\n",
    "    img = morphology.dilation(img, morphology.disk(7)) # TODO WAŻNE - zoptymalizować!\n",
    "                \n",
    "    return img\n",
    "            \n",
    "\n",
    "def detect_words_in_line(image_org, coords_of_line):\n",
    "    # wycinamy kawałek obrazu będącego linią tekstu i obracamy go (.T)\n",
    "    line_img = get_slice_of_image_with_specific_coords(image=image_org, coords=coords_of_line).T\n",
    "    line_img = morphology.dilation(line_img, morphology.disk(17))\n",
    "    \n",
    "    # szukamy miejsc, w których jasność jest większa od 0.0 i te miejsca zaznaczamy w wycinku obrazu\n",
    "    # (całe wiersze, tutaj poprzez obrócenie są to pojedyczne wyrazy)\n",
    "    sum_of_rows = np.sum(line_img, axis=1) \n",
    "    mean_row_value = np.mean(sum_of_rows)\n",
    "    for i, row in enumerate(line_img):\n",
    "        if np.mean(row) > 0.0:\n",
    "#             line_img[i:i+1, :] = (255, 0, 0)\n",
    "            line_img[i:i+1, :] = 255\n",
    "    line_img = line_img.T\n",
    "\n",
    "    # zamieniamy ten wycinek obrazu w całym obrazie\n",
    "    first_point = coords_of_line[0]\n",
    "    last_point = coords_of_line[-1]\n",
    "    image_org[first_point[0]:last_point[0]+1, first_point[1]:last_point[1]+1] = line_img\n",
    "                \n",
    "    return image_org\n",
    "\n",
    "\n",
    "def get_slice_of_image_with_specific_coords(image, coords):\n",
    "    height = coords[:, 0]\n",
    "    width = coords[:, 1]\n",
    "    slice_image = image[(height, width)].reshape((-1, image.shape[1]))\n",
    "    \n",
    "    return slice_image"
   ]
  },
  {
   "cell_type": "code",
   "execution_count": 6,
   "metadata": {},
   "outputs": [
    {
     "name": "stdout",
     "output_type": "stream",
     "text": [
      "../data/partial_results/canny_adam/file1.png\n"
     ]
    },
    {
     "name": "stderr",
     "output_type": "stream",
     "text": [
      "d:\\dokumenty\\projekty\\piro\\venv\\lib\\site-packages\\skimage\\io\\_plugins\\matplotlib_plugin.py:150: UserWarning: Low image data range; displaying image with stretched contrast.\n",
      "  lo, hi, cmap = _get_display_range(image)\n"
     ]
    },
    {
     "name": "stdout",
     "output_type": "stream",
     "text": [
      "regions:  13\n"
     ]
    }
   ],
   "source": [
    "# wykrywanie wyrazów\n",
    "source_path = Path('../data/partial_results/canny_adam/')\n",
    "save_path = Path('../data/partial_results/histogram_canny_adam')\n",
    "save_path.mkdir(parents=True, exist_ok=True)\n",
    "\n",
    "images_paths = source_path.glob(\"*.png\")\n",
    "for image_path in images_paths:\n",
    "    image_path = \"../data/partial_results/canny_adam/file1.png\"\n",
    "    print(image_path)\n",
    "    img = io.imread(image_path)\n",
    "    img = color.rgb2gray(img)\n",
    "    img = morphology.closing(img, morphology.disk(1))\n",
    "    img = morphology.opening(img, morphology.disk(1))\n",
    "    img_org = img.copy()\n",
    "    \n",
    "    img_detected_rows = detect_lines_of_text(img) \n",
    "    io.imshow(img_detected_rows)\n",
    "    \n",
    "    \n",
    "    # region = linia tekstu\n",
    "    label_image = measure.label(img_detected_rows)\n",
    "    regions = measure.regionprops(label_image)\n",
    "    print(\"regions: \", len(regions))\n",
    "\n",
    "    for region in regions:\n",
    "        img_org = detect_words_in_line(image_org=img_org, coords_of_line=region.coords)\n",
    "\n",
    "    io.imshow(img_org)\n",
    "    break"
   ]
  },
  {
   "cell_type": "code",
   "execution_count": null,
   "metadata": {},
   "outputs": [],
   "source": []
  },
  {
   "cell_type": "code",
   "execution_count": null,
   "metadata": {},
   "outputs": [],
   "source": []
  },
  {
   "cell_type": "code",
   "execution_count": null,
   "metadata": {},
   "outputs": [],
   "source": []
  }
 ],
 "metadata": {
  "kernelspec": {
   "display_name": "Python 3",
   "language": "python",
   "name": "python3"
  },
  "language_info": {
   "codemirror_mode": {
    "name": "ipython",
    "version": 3
   },
   "file_extension": ".py",
   "mimetype": "text/x-python",
   "name": "python",
   "nbconvert_exporter": "python",
   "pygments_lexer": "ipython3",
   "version": "3.8.4"
  }
 },
 "nbformat": 4,
 "nbformat_minor": 4
}
