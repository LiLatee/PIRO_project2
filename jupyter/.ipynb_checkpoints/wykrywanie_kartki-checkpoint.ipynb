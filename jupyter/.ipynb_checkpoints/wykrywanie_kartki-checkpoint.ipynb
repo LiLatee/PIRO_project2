{
 "cells": [
  {
   "cell_type": "code",
   "execution_count": 236,
   "metadata": {},
   "outputs": [],
   "source": [
    "from pathlib import Path\n",
    "from skimage import io\n",
    "from skimage.io import find_available_plugins\n",
    "from matplotlib import pyplot as plt\n",
    "import PyQt5\n",
    "from skimage.filters import threshold_otsu, threshold_local, median\n",
    "from skimage.color import rgb2gray\n",
    "from skimage.util import img_as_ubyte, img_as_bool\n",
    "from skimage.filters import gaussian\n",
    "from skimage.morphology import erosion, dilation, opening, closing\n",
    "from skimage import feature\n",
    "from collections import Counter\n",
    "import numpy as np\n",
    "from skimage.morphology import square\n",
    "%matplotlib qt "
   ]
  },
  {
   "cell_type": "code",
   "execution_count": 218,
   "metadata": {},
   "outputs": [],
   "source": [
    "from skimage.filters import threshold_multiotsu\n",
    "\n",
    "def local_thresholding(img):   \n",
    "#     img = rgb2gray(img)\n",
    "#     img = img_as_ubyte(img)\n",
    "    height, width = img.shape\n",
    "    temp = int((height+width)/10)\n",
    "    block_size = temp if temp%2==1 else temp+1\n",
    "    offset = np.mean(img.flatten())/2\n",
    "    local_thresh = threshold_local(img, block_size, offset=0, method='gaussian')\n",
    "\n",
    "    binary_local = img > local_thresh\n",
    "    \n",
    "    return binary_local\n",
    "    \n",
    "def global_thresholding(img):   \n",
    "#     img = rgb2gray(img)\n",
    "#     img = img_as_ubyte(img)\n",
    "\n",
    "    global_thresh = threshold_otsu(img)\n",
    "    binary_global = img > global_thresh\n",
    "\n",
    "    return binary_global   \n",
    "\n",
    "def yen_thresholding(img):   \n",
    "#     img = rgb2gray(img)\n",
    "#     img = img_as_ubyte(img)\n",
    "\n",
    "    global_thresh = threshold_yen(img)\n",
    "    binary_global = img > global_thresh\n",
    "\n",
    "    return binary_global  \n",
    "\n",
    "def multi_thresholding(img):   \n",
    "\n",
    "\n",
    "    global_thresh = threshold_yen(img)\n",
    "    binary_global = img > global_thresh\n",
    "\n",
    "    return binary_global  \n",
    "\n"
   ]
  },
  {
   "cell_type": "code",
   "execution_count": 253,
   "metadata": {},
   "outputs": [
    {
     "name": "stdout",
     "output_type": "stream",
     "text": [
      "..\\data\\ocr1\\img_4.jpg\n"
     ]
    }
   ],
   "source": [
    "source_path = Path('../data/ocr1/')\n",
    "images_paths = source_path.glob(\"*.jpg\")\n",
    "for image_path in images_paths:\n",
    "    image_path = \"..\\data\\ocr1\\img_4.jpg\"\n",
    "    print(image_path)\n",
    "    img = io.imread(image_path)\n",
    "    img = rgb2gray(img)\n",
    "#     img = img_as_ubyte(img)\n",
    "\n",
    "    # Contrast stretching\n",
    "    p2, p98 = np.percentile(img, (2, 98))\n",
    "    img = exposure.rescale_intensity(img, in_range=(p2, p98))\n",
    "\n",
    "\n",
    "    width, height = img.shape\n",
    "    img[:int(height/2), :int(width/2)] = global_thresholding(img[:int(height/2), :int(width/2)])\n",
    "    img[:int(height/2), int(width/2):] = global_thresholding(img[:int(height/2), int(width/2):])\n",
    "    img[int(height/2):, :int(width/2)] = global_thresholding(img[int(height/2):, :int(width/2)])\n",
    "    img[int(height/2):, int(width/2):] = global_thresholding(img[int(height/2):, int(width/2):])\n",
    "    io.imshow(img)\n",
    "    break"
   ]
  },
  {
   "cell_type": "code",
   "execution_count": 255,
   "metadata": {},
   "outputs": [],
   "source": [
    "import numpy as np\n",
    "\n",
    "from skimage.transform import hough_line, hough_line_peaks\n",
    "from skimage.feature import canny\n",
    "from skimage import data\n",
    "\n",
    "import matplotlib.pyplot as plt\n",
    "from matplotlib import cm\n",
    "image = canny(img)\n",
    "tested_angles = np.linspace(-np.pi / 2, np.pi / 2, 360)\n",
    "h, theta, d = hough_line(image, theta=tested_angles)\n",
    "\n",
    "# Generating figure 1\n",
    "fig, axes = plt.subplots(1, 3, figsize=(15, 6))\n",
    "ax = axes.ravel()\n",
    "\n",
    "ax[0].imshow(image, cmap=cm.gray)\n",
    "ax[0].set_title('Input image')\n",
    "ax[0].set_axis_off()\n",
    "\n",
    "ax[1].imshow(np.log(1 + h),\n",
    "             extent=[np.rad2deg(theta[-1]), np.rad2deg(theta[0]), d[-1], d[0]],\n",
    "             cmap=cm.gray, aspect=1/1.5)\n",
    "ax[1].set_title('Hough transform')\n",
    "ax[1].set_xlabel('Angles (degrees)')\n",
    "ax[1].set_ylabel('Distance (pixels)')\n",
    "ax[1].axis('image')\n",
    "\n",
    "ax[2].imshow(image, cmap=cm.gray)\n",
    "origin = np.array((0, image.shape[1]))\n",
    "for _, angle, dist in zip(*hough_line_peaks(h, theta, d)):\n",
    "    y0, y1 = (dist - origin * np.cos(angle)) / np.sin(angle)\n",
    "    ax[2].plot(origin, (y0, y1), '-r')\n",
    "ax[2].set_xlim(origin)\n",
    "ax[2].set_ylim((image.shape[0], 0))\n",
    "ax[2].set_axis_off()\n",
    "ax[2].set_title('Detected lines')\n",
    "\n",
    "plt.tight_layout()\n",
    "plt.show()"
   ]
  },
  {
   "cell_type": "code",
   "execution_count": null,
   "metadata": {},
   "outputs": [],
   "source": []
  }
 ],
 "metadata": {
  "kernelspec": {
   "display_name": "Python 3",
   "language": "python",
   "name": "python3"
  },
  "language_info": {
   "codemirror_mode": {
    "name": "ipython",
    "version": 3
   },
   "file_extension": ".py",
   "mimetype": "text/x-python",
   "name": "python",
   "nbconvert_exporter": "python",
   "pygments_lexer": "ipython3",
   "version": "3.8.4"
  }
 },
 "nbformat": 4,
 "nbformat_minor": 4
}
