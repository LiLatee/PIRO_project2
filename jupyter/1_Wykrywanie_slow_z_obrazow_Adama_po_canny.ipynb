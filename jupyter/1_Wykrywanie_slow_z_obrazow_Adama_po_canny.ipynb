{
 "cells": [
  {
   "cell_type": "code",
   "execution_count": 7,
   "metadata": {},
   "outputs": [],
   "source": [
    "import numpy as np\n",
    "from pathlib import Path\n",
    "from skimage import io\n",
    "from skimage import color\n",
    "from skimage import measure\n",
    "from skimage import morphology\n",
    "from skimage import transform\n",
    "from skimage import util\n",
    "import re\n",
    "import matplotlib.pyplot as plt\n",
    "%matplotlib qt"
   ]
  },
  {
   "cell_type": "code",
   "execution_count": null,
   "metadata": {},
   "outputs": [],
   "source": [
    "from collections import Counter\n",
    "print(Counter(image_result.ravel()))"
   ]
  },
  {
   "cell_type": "markdown",
   "metadata": {},
   "source": [
    "# Aktualne"
   ]
  },
  {
   "cell_type": "markdown",
   "metadata": {},
   "source": [
    "### Pomocnicze"
   ]
  },
  {
   "cell_type": "code",
   "execution_count": 13,
   "metadata": {},
   "outputs": [],
   "source": [
    "def detect_lines_of_text(img):    \n",
    "    # obliczamy średnią jasność wierszy w obrazie\n",
    "    sum_of_rows = np.sum(img, axis=1) \n",
    "    mean_row_value = np.mean(sum_of_rows)\n",
    "    \n",
    "    # wiersze poniżej średniej jasności zerujemy (usuwa np. ogonki liter nachodzących na kolejne wiersze)\n",
    "    # chodzi o to żeby wyciągnąć na pewno te wiersze obrazu, w których jest tekst\n",
    "    for i, row in enumerate(img):\n",
    "#         print(np.sum(row))\n",
    "        if np.sum(row) < mean_row_value: # lub mean_row_value, ale to jest takie niefajne, eh\n",
    "            row = np.zeros(row.shape)\n",
    "            img[i] = row\n",
    "        \n",
    "    # zaznaczamy obszary, które są powyżej średniej (całe wiersze)\n",
    "    for i, row in enumerate(img):\n",
    "#         print(np.mean(row))\n",
    "        if np.sum(row) > 0.0:\n",
    "            img[i:i+1, :] = 1 \n",
    "            \n",
    "    # łączenie lekko rozdzielonych linijek\n",
    "#     img = morphology.dilation(img, morphology.disk(5)) # TODO WAŻNE - zoptymalizować!\n",
    "                \n",
    "    return img\n",
    "            \n",
    "\n",
    "def detect_words_in_line(image_result, image_binary, coords_of_line, row_intensity=255):\n",
    "    # wycinamy kawałek obrazu będącego linią tekstu i obracamy go (.T)\n",
    "    line_img = get_slice_of_image_with_specific_coords(image=image_binary, coords=coords_of_line).T\n",
    "    line_img = morphology.dilation(line_img, morphology.disk(13))\n",
    "    \n",
    "    # szukamy miejsc, w których jasność jest większa od 0.0 i te miejsca zaznaczamy w wycinku obrazu\n",
    "    # (obraz jest obrócony, więc tekst idzie z góry na dół)\n",
    "    sum_of_rows = np.sum(line_img, axis=1) \n",
    "    mean_row_value = np.mean(sum_of_rows)\n",
    "    for i, row in enumerate(line_img):\n",
    "        if np.mean(row) > 0.0:\n",
    "#             line_img[i:i+1, :] = (255, 0, 0)\n",
    "            line_img[i:i+1, :] = row_intensity\n",
    "    # znowu obracamy, tekst biegnie od lewej do prawej\n",
    "    line_img = line_img.T\n",
    "    \n",
    "    # wykrywamy regiony, czyli pojedynczy region to powinien być jeden wyraz\n",
    "    label_line_img = measure.label(line_img)\n",
    "    regions = measure.regionprops(label_line_img)\n",
    "#     print(\"liczba słów: \", len(regions))\n",
    "    \n",
    "    # tutaj szukamy regionu, który jest najdalej na lewo - czyli indeksu\n",
    "    max_width_coord = max(regions[0].coords[:, 1])\n",
    "    max_region_index = 0\n",
    "    for i, region in enumerate(regions[1:]):        \n",
    "        temp = max(region.coords[:, 1])\n",
    "        if temp > max_width_coord:\n",
    "            max_width_coord = temp\n",
    "            max_region_index = i + 1\n",
    "    \n",
    "    # czyli mamy wszystkie współrzędne regionu z indeksem\n",
    "    last_word_coords = regions[max_region_index].coords\n",
    "    # ale aktualnie do tego regionu odnosimy się względem naszego wycinka obrazu - jednego wiersza\n",
    "    # a chcemy go zaznaczyć na całym obrazie, więc do współrzędnych dodajemy współrzędne naszego wycinka,\n",
    "    # (te współrzędne wycinka odnoszą się do całego obrazu)\n",
    "    last_word_coords[:,0] += coords_of_line[0][0]\n",
    "    \n",
    "    # zamieniamy ten wycinek obrazu w całym obrazie\n",
    "    first_point = coords_of_line[0]\n",
    "    last_point = coords_of_line[-1]\n",
    "    image_result[first_point[0]:last_point[0]+1, first_point[1]:last_point[1]+1] = line_img\n",
    "                \n",
    "    return last_word_coords\n",
    "\n",
    "\n",
    "def get_slice_of_image_with_specific_coords(image, coords):\n",
    "    height = coords[:, 0]\n",
    "    width = coords[:, 1]\n",
    "    slice_image = image[(height, width)].reshape((-1, image.shape[1]))\n",
    "    \n",
    "    return slice_image"
   ]
  },
  {
   "cell_type": "code",
   "execution_count": 26,
   "metadata": {},
   "outputs": [
    {
     "ename": "NotImplementedError",
     "evalue": "Non-relative patterns are unsupported",
     "output_type": "error",
     "traceback": [
      "\u001b[1;31m--------------------------------------------------------------------\u001b[0m",
      "\u001b[1;31mNotImplementedError\u001b[0m                Traceback (most recent call last)",
      "\u001b[1;32m<ipython-input-26-9efe70ed68ec>\u001b[0m in \u001b[0;36m<module>\u001b[1;34m\u001b[0m\n\u001b[0;32m      1\u001b[0m \u001b[0mp\u001b[0m \u001b[1;33m=\u001b[0m \u001b[0mPath\u001b[0m\u001b[1;33m(\u001b[0m\u001b[1;34m\"D:\\Dokumenty\\Projekty\\PIRO\\Projekt2\\data\\partial_results\\canny_adam_2\"\u001b[0m\u001b[1;33m)\u001b[0m\u001b[1;33m\u001b[0m\u001b[1;33m\u001b[0m\u001b[0m\n\u001b[0;32m      2\u001b[0m \u001b[0mimages_paths\u001b[0m \u001b[1;33m=\u001b[0m \u001b[0msource_path_canny\u001b[0m\u001b[1;33m.\u001b[0m\u001b[0mglob\u001b[0m\u001b[1;33m(\u001b[0m\u001b[1;34m\"\\(*.png\\)|\\(*.jpg\\)\"\u001b[0m\u001b[1;33m)\u001b[0m\u001b[1;33m\u001b[0m\u001b[1;33m\u001b[0m\u001b[0m\n\u001b[1;32m----> 3\u001b[1;33m \u001b[0mprint\u001b[0m\u001b[1;33m(\u001b[0m\u001b[0mlist\u001b[0m\u001b[1;33m(\u001b[0m\u001b[0mimages_paths\u001b[0m\u001b[1;33m)\u001b[0m\u001b[1;33m)\u001b[0m\u001b[1;33m\u001b[0m\u001b[1;33m\u001b[0m\u001b[0m\n\u001b[0m",
      "\u001b[1;32mC:\\Program Files\\WindowsApps\\PythonSoftwareFoundation.Python.3.8_3.8.1520.0_x64__qbz5n2kfra8p0\\lib\\pathlib.py\u001b[0m in \u001b[0;36mglob\u001b[1;34m(self, pattern)\u001b[0m\n\u001b[0;32m   1132\u001b[0m         \u001b[0mdrv\u001b[0m\u001b[1;33m,\u001b[0m \u001b[0mroot\u001b[0m\u001b[1;33m,\u001b[0m \u001b[0mpattern_parts\u001b[0m \u001b[1;33m=\u001b[0m \u001b[0mself\u001b[0m\u001b[1;33m.\u001b[0m\u001b[0m_flavour\u001b[0m\u001b[1;33m.\u001b[0m\u001b[0mparse_parts\u001b[0m\u001b[1;33m(\u001b[0m\u001b[1;33m(\u001b[0m\u001b[0mpattern\u001b[0m\u001b[1;33m,\u001b[0m\u001b[1;33m)\u001b[0m\u001b[1;33m)\u001b[0m\u001b[1;33m\u001b[0m\u001b[1;33m\u001b[0m\u001b[0m\n\u001b[0;32m   1133\u001b[0m         \u001b[1;32mif\u001b[0m \u001b[0mdrv\u001b[0m \u001b[1;32mor\u001b[0m \u001b[0mroot\u001b[0m\u001b[1;33m:\u001b[0m\u001b[1;33m\u001b[0m\u001b[1;33m\u001b[0m\u001b[0m\n\u001b[1;32m-> 1134\u001b[1;33m             \u001b[1;32mraise\u001b[0m \u001b[0mNotImplementedError\u001b[0m\u001b[1;33m(\u001b[0m\u001b[1;34m\"Non-relative patterns are unsupported\"\u001b[0m\u001b[1;33m)\u001b[0m\u001b[1;33m\u001b[0m\u001b[1;33m\u001b[0m\u001b[0m\n\u001b[0m\u001b[0;32m   1135\u001b[0m         \u001b[0mselector\u001b[0m \u001b[1;33m=\u001b[0m \u001b[0m_make_selector\u001b[0m\u001b[1;33m(\u001b[0m\u001b[0mtuple\u001b[0m\u001b[1;33m(\u001b[0m\u001b[0mpattern_parts\u001b[0m\u001b[1;33m)\u001b[0m\u001b[1;33m,\u001b[0m \u001b[0mself\u001b[0m\u001b[1;33m.\u001b[0m\u001b[0m_flavour\u001b[0m\u001b[1;33m)\u001b[0m\u001b[1;33m\u001b[0m\u001b[1;33m\u001b[0m\u001b[0m\n\u001b[0;32m   1136\u001b[0m         \u001b[1;32mfor\u001b[0m \u001b[0mp\u001b[0m \u001b[1;32min\u001b[0m \u001b[0mselector\u001b[0m\u001b[1;33m.\u001b[0m\u001b[0mselect_from\u001b[0m\u001b[1;33m(\u001b[0m\u001b[0mself\u001b[0m\u001b[1;33m)\u001b[0m\u001b[1;33m:\u001b[0m\u001b[1;33m\u001b[0m\u001b[1;33m\u001b[0m\u001b[0m\n",
      "\u001b[1;31mNotImplementedError\u001b[0m: Non-relative patterns are unsupported"
     ]
    }
   ],
   "source": [
    "p = Path(\"D:\\Dokumenty\\Projekty\\PIRO\\Projekt2\\data\\partial_results\\canny_adam_2\")\n",
    "images_paths = source_path_canny.glob(\"(*.png)|(*.jpg)\")\n",
    "print(list(images_paths))"
   ]
  },
  {
   "cell_type": "markdown",
   "metadata": {},
   "source": [
    "### Główny program"
   ]
  },
  {
   "cell_type": "code",
   "execution_count": 14,
   "metadata": {},
   "outputs": [
    {
     "name": "stdout",
     "output_type": "stream",
     "text": [
      "..\\data\\partial_results\\canny_adam_2\\img_1.png\n",
      "regions:  13\n"
     ]
    },
    {
     "name": "stderr",
     "output_type": "stream",
     "text": [
      "<ipython-input-14-d3feef5aee87>:63: UserWarning: ..\\data\\partial_results\\wyciete_indeksy_2\\1\\0.png is a low contrast image\n",
      "  io.imsave(arr=last_word_img, fname=last_word_directory / '{}.png'.format(i))\n",
      "<ipython-input-14-d3feef5aee87>:63: UserWarning: ..\\data\\partial_results\\wyciete_indeksy_2\\1\\1.png is a low contrast image\n",
      "  io.imsave(arr=last_word_img, fname=last_word_directory / '{}.png'.format(i))\n",
      "<ipython-input-14-d3feef5aee87>:63: UserWarning: ..\\data\\partial_results\\wyciete_indeksy_2\\1\\2.png is a low contrast image\n",
      "  io.imsave(arr=last_word_img, fname=last_word_directory / '{}.png'.format(i))\n"
     ]
    },
    {
     "name": "stdout",
     "output_type": "stream",
     "text": [
      "..\\data\\partial_results\\canny_adam_2\\img_10.png\n",
      "regions:  14\n"
     ]
    },
    {
     "name": "stderr",
     "output_type": "stream",
     "text": [
      "<ipython-input-14-d3feef5aee87>:63: UserWarning: ..\\data\\partial_results\\wyciete_indeksy_2\\10\\0.png is a low contrast image\n",
      "  io.imsave(arr=last_word_img, fname=last_word_directory / '{}.png'.format(i))\n",
      "<ipython-input-14-d3feef5aee87>:63: UserWarning: ..\\data\\partial_results\\wyciete_indeksy_2\\10\\1.png is a low contrast image\n",
      "  io.imsave(arr=last_word_img, fname=last_word_directory / '{}.png'.format(i))\n",
      "<ipython-input-14-d3feef5aee87>:63: UserWarning: ..\\data\\partial_results\\wyciete_indeksy_2\\10\\2.png is a low contrast image\n",
      "  io.imsave(arr=last_word_img, fname=last_word_directory / '{}.png'.format(i))\n",
      "<ipython-input-14-d3feef5aee87>:63: UserWarning: ..\\data\\partial_results\\wyciete_indeksy_2\\10\\3.png is a low contrast image\n",
      "  io.imsave(arr=last_word_img, fname=last_word_directory / '{}.png'.format(i))\n",
      "<ipython-input-14-d3feef5aee87>:63: UserWarning: ..\\data\\partial_results\\wyciete_indeksy_2\\10\\4.png is a low contrast image\n",
      "  io.imsave(arr=last_word_img, fname=last_word_directory / '{}.png'.format(i))\n",
      "<ipython-input-14-d3feef5aee87>:63: UserWarning: ..\\data\\partial_results\\wyciete_indeksy_2\\10\\5.png is a low contrast image\n",
      "  io.imsave(arr=last_word_img, fname=last_word_directory / '{}.png'.format(i))\n"
     ]
    },
    {
     "name": "stdout",
     "output_type": "stream",
     "text": [
      "..\\data\\partial_results\\canny_adam_2\\img_11.png\n",
      "regions:  10\n"
     ]
    },
    {
     "name": "stderr",
     "output_type": "stream",
     "text": [
      "<ipython-input-14-d3feef5aee87>:46: UserWarning: ..\\data\\partial_results\\k_wyrazy_2\\11-wyrazy.png is a low contrast image\n",
      "  io.imsave(arr=image_result, fname=save_path_k_wyrazy / '{}-wyrazy.png'.format(number_of_image))\n"
     ]
    },
    {
     "name": "stdout",
     "output_type": "stream",
     "text": [
      "..\\data\\partial_results\\canny_adam_2\\img_12.png\n",
      "regions:  12\n"
     ]
    },
    {
     "name": "stderr",
     "output_type": "stream",
     "text": [
      "<ipython-input-14-d3feef5aee87>:46: UserWarning: ..\\data\\partial_results\\k_wyrazy_2\\12-wyrazy.png is a low contrast image\n",
      "  io.imsave(arr=image_result, fname=save_path_k_wyrazy / '{}-wyrazy.png'.format(number_of_image))\n",
      "<ipython-input-14-d3feef5aee87>:63: UserWarning: ..\\data\\partial_results\\wyciete_indeksy_2\\12\\0.png is a low contrast image\n",
      "  io.imsave(arr=last_word_img, fname=last_word_directory / '{}.png'.format(i))\n",
      "<ipython-input-14-d3feef5aee87>:63: UserWarning: ..\\data\\partial_results\\wyciete_indeksy_2\\12\\1.png is a low contrast image\n",
      "  io.imsave(arr=last_word_img, fname=last_word_directory / '{}.png'.format(i))\n"
     ]
    },
    {
     "name": "stdout",
     "output_type": "stream",
     "text": [
      "..\\data\\partial_results\\canny_adam_2\\img_13.png\n",
      "regions:  27\n"
     ]
    },
    {
     "name": "stderr",
     "output_type": "stream",
     "text": [
      "<ipython-input-14-d3feef5aee87>:63: UserWarning: ..\\data\\partial_results\\wyciete_indeksy_2\\13\\0.png is a low contrast image\n",
      "  io.imsave(arr=last_word_img, fname=last_word_directory / '{}.png'.format(i))\n",
      "<ipython-input-14-d3feef5aee87>:63: UserWarning: ..\\data\\partial_results\\wyciete_indeksy_2\\13\\1.png is a low contrast image\n",
      "  io.imsave(arr=last_word_img, fname=last_word_directory / '{}.png'.format(i))\n",
      "<ipython-input-14-d3feef5aee87>:63: UserWarning: ..\\data\\partial_results\\wyciete_indeksy_2\\13\\2.png is a low contrast image\n",
      "  io.imsave(arr=last_word_img, fname=last_word_directory / '{}.png'.format(i))\n",
      "<ipython-input-14-d3feef5aee87>:63: UserWarning: ..\\data\\partial_results\\wyciete_indeksy_2\\13\\4.png is a low contrast image\n",
      "  io.imsave(arr=last_word_img, fname=last_word_directory / '{}.png'.format(i))\n",
      "<ipython-input-14-d3feef5aee87>:63: UserWarning: ..\\data\\partial_results\\wyciete_indeksy_2\\13\\12.png is a low contrast image\n",
      "  io.imsave(arr=last_word_img, fname=last_word_directory / '{}.png'.format(i))\n",
      "<ipython-input-14-d3feef5aee87>:63: UserWarning: ..\\data\\partial_results\\wyciete_indeksy_2\\13\\23.png is a low contrast image\n",
      "  io.imsave(arr=last_word_img, fname=last_word_directory / '{}.png'.format(i))\n"
     ]
    },
    {
     "name": "stdout",
     "output_type": "stream",
     "text": [
      "..\\data\\partial_results\\canny_adam_2\\img_14.png\n",
      "regions:  20\n"
     ]
    },
    {
     "name": "stderr",
     "output_type": "stream",
     "text": [
      "<ipython-input-14-d3feef5aee87>:63: UserWarning: ..\\data\\partial_results\\wyciete_indeksy_2\\14\\0.png is a low contrast image\n",
      "  io.imsave(arr=last_word_img, fname=last_word_directory / '{}.png'.format(i))\n"
     ]
    },
    {
     "name": "stdout",
     "output_type": "stream",
     "text": [
      "..\\data\\partial_results\\canny_adam_2\\img_15.png\n",
      "regions:  28\n"
     ]
    },
    {
     "name": "stderr",
     "output_type": "stream",
     "text": [
      "<ipython-input-14-d3feef5aee87>:63: UserWarning: ..\\data\\partial_results\\wyciete_indeksy_2\\15\\1.png is a low contrast image\n",
      "  io.imsave(arr=last_word_img, fname=last_word_directory / '{}.png'.format(i))\n",
      "<ipython-input-14-d3feef5aee87>:63: UserWarning: ..\\data\\partial_results\\wyciete_indeksy_2\\15\\2.png is a low contrast image\n",
      "  io.imsave(arr=last_word_img, fname=last_word_directory / '{}.png'.format(i))\n",
      "<ipython-input-14-d3feef5aee87>:63: UserWarning: ..\\data\\partial_results\\wyciete_indeksy_2\\15\\4.png is a low contrast image\n",
      "  io.imsave(arr=last_word_img, fname=last_word_directory / '{}.png'.format(i))\n",
      "<ipython-input-14-d3feef5aee87>:63: UserWarning: ..\\data\\partial_results\\wyciete_indeksy_2\\15\\16.png is a low contrast image\n",
      "  io.imsave(arr=last_word_img, fname=last_word_directory / '{}.png'.format(i))\n",
      "<ipython-input-14-d3feef5aee87>:63: UserWarning: ..\\data\\partial_results\\wyciete_indeksy_2\\15\\17.png is a low contrast image\n",
      "  io.imsave(arr=last_word_img, fname=last_word_directory / '{}.png'.format(i))\n",
      "<ipython-input-14-d3feef5aee87>:63: UserWarning: ..\\data\\partial_results\\wyciete_indeksy_2\\15\\19.png is a low contrast image\n",
      "  io.imsave(arr=last_word_img, fname=last_word_directory / '{}.png'.format(i))\n",
      "<ipython-input-14-d3feef5aee87>:63: UserWarning: ..\\data\\partial_results\\wyciete_indeksy_2\\15\\24.png is a low contrast image\n",
      "  io.imsave(arr=last_word_img, fname=last_word_directory / '{}.png'.format(i))\n"
     ]
    },
    {
     "name": "stdout",
     "output_type": "stream",
     "text": [
      "..\\data\\partial_results\\canny_adam_2\\img_16.png\n",
      "regions:  21\n"
     ]
    },
    {
     "name": "stderr",
     "output_type": "stream",
     "text": [
      "<ipython-input-14-d3feef5aee87>:63: UserWarning: ..\\data\\partial_results\\wyciete_indeksy_2\\16\\0.png is a low contrast image\n",
      "  io.imsave(arr=last_word_img, fname=last_word_directory / '{}.png'.format(i))\n"
     ]
    },
    {
     "name": "stdout",
     "output_type": "stream",
     "text": [
      "..\\data\\partial_results\\canny_adam_2\\img_17.png\n",
      "regions:  22\n",
      "..\\data\\partial_results\\canny_adam_2\\img_18.png\n",
      "regions:  27\n",
      "..\\data\\partial_results\\canny_adam_2\\img_19.png\n",
      "regions:  25\n"
     ]
    },
    {
     "name": "stderr",
     "output_type": "stream",
     "text": [
      "<ipython-input-14-d3feef5aee87>:63: UserWarning: ..\\data\\partial_results\\wyciete_indeksy_2\\19\\1.png is a low contrast image\n",
      "  io.imsave(arr=last_word_img, fname=last_word_directory / '{}.png'.format(i))\n",
      "<ipython-input-14-d3feef5aee87>:63: UserWarning: ..\\data\\partial_results\\wyciete_indeksy_2\\19\\5.png is a low contrast image\n",
      "  io.imsave(arr=last_word_img, fname=last_word_directory / '{}.png'.format(i))\n",
      "<ipython-input-14-d3feef5aee87>:63: UserWarning: ..\\data\\partial_results\\wyciete_indeksy_2\\19\\6.png is a low contrast image\n",
      "  io.imsave(arr=last_word_img, fname=last_word_directory / '{}.png'.format(i))\n"
     ]
    },
    {
     "name": "stdout",
     "output_type": "stream",
     "text": [
      "..\\data\\partial_results\\canny_adam_2\\img_2.png\n",
      "regions:  14\n"
     ]
    },
    {
     "name": "stderr",
     "output_type": "stream",
     "text": [
      "<ipython-input-14-d3feef5aee87>:63: UserWarning: ..\\data\\partial_results\\wyciete_indeksy_2\\2\\0.png is a low contrast image\n",
      "  io.imsave(arr=last_word_img, fname=last_word_directory / '{}.png'.format(i))\n"
     ]
    },
    {
     "name": "stdout",
     "output_type": "stream",
     "text": [
      "..\\data\\partial_results\\canny_adam_2\\img_20.png\n",
      "regions:  29\n"
     ]
    },
    {
     "name": "stderr",
     "output_type": "stream",
     "text": [
      "<ipython-input-14-d3feef5aee87>:63: UserWarning: ..\\data\\partial_results\\wyciete_indeksy_2\\20\\0.png is a low contrast image\n",
      "  io.imsave(arr=last_word_img, fname=last_word_directory / '{}.png'.format(i))\n",
      "<ipython-input-14-d3feef5aee87>:63: UserWarning: ..\\data\\partial_results\\wyciete_indeksy_2\\20\\3.png is a low contrast image\n",
      "  io.imsave(arr=last_word_img, fname=last_word_directory / '{}.png'.format(i))\n",
      "<ipython-input-14-d3feef5aee87>:63: UserWarning: ..\\data\\partial_results\\wyciete_indeksy_2\\20\\15.png is a low contrast image\n",
      "  io.imsave(arr=last_word_img, fname=last_word_directory / '{}.png'.format(i))\n",
      "<ipython-input-14-d3feef5aee87>:63: UserWarning: ..\\data\\partial_results\\wyciete_indeksy_2\\20\\16.png is a low contrast image\n",
      "  io.imsave(arr=last_word_img, fname=last_word_directory / '{}.png'.format(i))\n",
      "<ipython-input-14-d3feef5aee87>:63: UserWarning: ..\\data\\partial_results\\wyciete_indeksy_2\\20\\21.png is a low contrast image\n",
      "  io.imsave(arr=last_word_img, fname=last_word_directory / '{}.png'.format(i))\n",
      "<ipython-input-14-d3feef5aee87>:63: UserWarning: ..\\data\\partial_results\\wyciete_indeksy_2\\20\\24.png is a low contrast image\n",
      "  io.imsave(arr=last_word_img, fname=last_word_directory / '{}.png'.format(i))\n",
      "<ipython-input-14-d3feef5aee87>:63: UserWarning: ..\\data\\partial_results\\wyciete_indeksy_2\\20\\25.png is a low contrast image\n",
      "  io.imsave(arr=last_word_img, fname=last_word_directory / '{}.png'.format(i))\n",
      "<ipython-input-14-d3feef5aee87>:63: UserWarning: ..\\data\\partial_results\\wyciete_indeksy_2\\20\\28.png is a low contrast image\n",
      "  io.imsave(arr=last_word_img, fname=last_word_directory / '{}.png'.format(i))\n"
     ]
    },
    {
     "name": "stdout",
     "output_type": "stream",
     "text": [
      "..\\data\\partial_results\\canny_adam_2\\img_21.png\n",
      "regions:  23\n",
      "..\\data\\partial_results\\canny_adam_2\\img_22.png\n",
      "regions:  22\n",
      "..\\data\\partial_results\\canny_adam_2\\img_23.png\n",
      "regions:  22\n",
      "..\\data\\partial_results\\canny_adam_2\\img_24.png\n",
      "regions:  16\n",
      "..\\data\\partial_results\\canny_adam_2\\img_25.png\n",
      "regions:  19\n",
      "..\\data\\partial_results\\canny_adam_2\\img_26.png\n",
      "regions:  18\n"
     ]
    },
    {
     "name": "stderr",
     "output_type": "stream",
     "text": [
      "<ipython-input-14-d3feef5aee87>:63: UserWarning: ..\\data\\partial_results\\wyciete_indeksy_2\\26\\0.png is a low contrast image\n",
      "  io.imsave(arr=last_word_img, fname=last_word_directory / '{}.png'.format(i))\n"
     ]
    },
    {
     "name": "stdout",
     "output_type": "stream",
     "text": [
      "..\\data\\partial_results\\canny_adam_2\\img_27.png\n",
      "regions:  15\n"
     ]
    },
    {
     "name": "stderr",
     "output_type": "stream",
     "text": [
      "<ipython-input-14-d3feef5aee87>:63: UserWarning: ..\\data\\partial_results\\wyciete_indeksy_2\\27\\0.png is a low contrast image\n",
      "  io.imsave(arr=last_word_img, fname=last_word_directory / '{}.png'.format(i))\n"
     ]
    },
    {
     "name": "stdout",
     "output_type": "stream",
     "text": [
      "..\\data\\partial_results\\canny_adam_2\\img_28.png\n",
      "regions:  17\n"
     ]
    },
    {
     "name": "stderr",
     "output_type": "stream",
     "text": [
      "<ipython-input-14-d3feef5aee87>:63: UserWarning: ..\\data\\partial_results\\wyciete_indeksy_2\\28\\0.png is a low contrast image\n",
      "  io.imsave(arr=last_word_img, fname=last_word_directory / '{}.png'.format(i))\n",
      "<ipython-input-14-d3feef5aee87>:63: UserWarning: ..\\data\\partial_results\\wyciete_indeksy_2\\28\\1.png is a low contrast image\n",
      "  io.imsave(arr=last_word_img, fname=last_word_directory / '{}.png'.format(i))\n",
      "<ipython-input-14-d3feef5aee87>:63: UserWarning: ..\\data\\partial_results\\wyciete_indeksy_2\\28\\2.png is a low contrast image\n",
      "  io.imsave(arr=last_word_img, fname=last_word_directory / '{}.png'.format(i))\n"
     ]
    },
    {
     "name": "stdout",
     "output_type": "stream",
     "text": [
      "..\\data\\partial_results\\canny_adam_2\\img_29.png\n",
      "regions:  17\n",
      "..\\data\\partial_results\\canny_adam_2\\img_3.png\n",
      "regions:  17\n"
     ]
    },
    {
     "name": "stderr",
     "output_type": "stream",
     "text": [
      "<ipython-input-14-d3feef5aee87>:63: UserWarning: ..\\data\\partial_results\\wyciete_indeksy_2\\3\\0.png is a low contrast image\n",
      "  io.imsave(arr=last_word_img, fname=last_word_directory / '{}.png'.format(i))\n",
      "<ipython-input-14-d3feef5aee87>:63: UserWarning: ..\\data\\partial_results\\wyciete_indeksy_2\\3\\1.png is a low contrast image\n",
      "  io.imsave(arr=last_word_img, fname=last_word_directory / '{}.png'.format(i))\n",
      "<ipython-input-14-d3feef5aee87>:63: UserWarning: ..\\data\\partial_results\\wyciete_indeksy_2\\3\\2.png is a low contrast image\n",
      "  io.imsave(arr=last_word_img, fname=last_word_directory / '{}.png'.format(i))\n",
      "<ipython-input-14-d3feef5aee87>:63: UserWarning: ..\\data\\partial_results\\wyciete_indeksy_2\\3\\3.png is a low contrast image\n",
      "  io.imsave(arr=last_word_img, fname=last_word_directory / '{}.png'.format(i))\n"
     ]
    },
    {
     "name": "stdout",
     "output_type": "stream",
     "text": [
      "..\\data\\partial_results\\canny_adam_2\\img_4.png\n",
      "regions:  16\n"
     ]
    },
    {
     "name": "stderr",
     "output_type": "stream",
     "text": [
      "<ipython-input-14-d3feef5aee87>:63: UserWarning: ..\\data\\partial_results\\wyciete_indeksy_2\\4\\0.png is a low contrast image\n",
      "  io.imsave(arr=last_word_img, fname=last_word_directory / '{}.png'.format(i))\n"
     ]
    },
    {
     "name": "stdout",
     "output_type": "stream",
     "text": [
      "..\\data\\partial_results\\canny_adam_2\\img_5.png\n",
      "regions:  15\n"
     ]
    },
    {
     "name": "stderr",
     "output_type": "stream",
     "text": [
      "<ipython-input-14-d3feef5aee87>:63: UserWarning: ..\\data\\partial_results\\wyciete_indeksy_2\\5\\0.png is a low contrast image\n",
      "  io.imsave(arr=last_word_img, fname=last_word_directory / '{}.png'.format(i))\n",
      "<ipython-input-14-d3feef5aee87>:63: UserWarning: ..\\data\\partial_results\\wyciete_indeksy_2\\5\\1.png is a low contrast image\n",
      "  io.imsave(arr=last_word_img, fname=last_word_directory / '{}.png'.format(i))\n",
      "<ipython-input-14-d3feef5aee87>:63: UserWarning: ..\\data\\partial_results\\wyciete_indeksy_2\\5\\2.png is a low contrast image\n",
      "  io.imsave(arr=last_word_img, fname=last_word_directory / '{}.png'.format(i))\n",
      "<ipython-input-14-d3feef5aee87>:63: UserWarning: ..\\data\\partial_results\\wyciete_indeksy_2\\5\\3.png is a low contrast image\n",
      "  io.imsave(arr=last_word_img, fname=last_word_directory / '{}.png'.format(i))\n",
      "<ipython-input-14-d3feef5aee87>:63: UserWarning: ..\\data\\partial_results\\wyciete_indeksy_2\\5\\4.png is a low contrast image\n",
      "  io.imsave(arr=last_word_img, fname=last_word_directory / '{}.png'.format(i))\n"
     ]
    },
    {
     "name": "stdout",
     "output_type": "stream",
     "text": [
      "..\\data\\partial_results\\canny_adam_2\\img_6.png\n",
      "regions:  15\n",
      "..\\data\\partial_results\\canny_adam_2\\img_7.png\n",
      "regions:  19\n"
     ]
    },
    {
     "name": "stderr",
     "output_type": "stream",
     "text": [
      "<ipython-input-14-d3feef5aee87>:63: UserWarning: ..\\data\\partial_results\\wyciete_indeksy_2\\7\\0.png is a low contrast image\n",
      "  io.imsave(arr=last_word_img, fname=last_word_directory / '{}.png'.format(i))\n",
      "<ipython-input-14-d3feef5aee87>:63: UserWarning: ..\\data\\partial_results\\wyciete_indeksy_2\\7\\1.png is a low contrast image\n",
      "  io.imsave(arr=last_word_img, fname=last_word_directory / '{}.png'.format(i))\n",
      "<ipython-input-14-d3feef5aee87>:63: UserWarning: ..\\data\\partial_results\\wyciete_indeksy_2\\7\\2.png is a low contrast image\n",
      "  io.imsave(arr=last_word_img, fname=last_word_directory / '{}.png'.format(i))\n",
      "<ipython-input-14-d3feef5aee87>:63: UserWarning: ..\\data\\partial_results\\wyciete_indeksy_2\\7\\3.png is a low contrast image\n",
      "  io.imsave(arr=last_word_img, fname=last_word_directory / '{}.png'.format(i))\n",
      "<ipython-input-14-d3feef5aee87>:63: UserWarning: ..\\data\\partial_results\\wyciete_indeksy_2\\7\\4.png is a low contrast image\n",
      "  io.imsave(arr=last_word_img, fname=last_word_directory / '{}.png'.format(i))\n"
     ]
    },
    {
     "name": "stdout",
     "output_type": "stream",
     "text": [
      "..\\data\\partial_results\\canny_adam_2\\img_8.png\n",
      "regions:  17\n",
      "..\\data\\partial_results\\canny_adam_2\\img_9.png\n",
      "regions:  11\n"
     ]
    },
    {
     "name": "stderr",
     "output_type": "stream",
     "text": [
      "<ipython-input-14-d3feef5aee87>:46: UserWarning: ..\\data\\partial_results\\k_wyrazy_2\\9-wyrazy.png is a low contrast image\n",
      "  io.imsave(arr=image_result, fname=save_path_k_wyrazy / '{}-wyrazy.png'.format(number_of_image))\n",
      "<ipython-input-14-d3feef5aee87>:63: UserWarning: ..\\data\\partial_results\\wyciete_indeksy_2\\9\\0.png is a low contrast image\n",
      "  io.imsave(arr=last_word_img, fname=last_word_directory / '{}.png'.format(i))\n",
      "<ipython-input-14-d3feef5aee87>:63: UserWarning: ..\\data\\partial_results\\wyciete_indeksy_2\\9\\1.png is a low contrast image\n",
      "  io.imsave(arr=last_word_img, fname=last_word_directory / '{}.png'.format(i))\n",
      "<ipython-input-14-d3feef5aee87>:63: UserWarning: ..\\data\\partial_results\\wyciete_indeksy_2\\9\\2.png is a low contrast image\n",
      "  io.imsave(arr=last_word_img, fname=last_word_directory / '{}.png'.format(i))\n",
      "<ipython-input-14-d3feef5aee87>:63: UserWarning: ..\\data\\partial_results\\wyciete_indeksy_2\\9\\3.png is a low contrast image\n",
      "  io.imsave(arr=last_word_img, fname=last_word_directory / '{}.png'.format(i))\n"
     ]
    }
   ],
   "source": [
    "source_path_org = Path('../data/ocr1')\n",
    "source_path_canny = Path('../data/partial_results/canny_adam_2')\n",
    "\n",
    "save_path = Path('../data/partial_results/wyciete_indeksy_2')\n",
    "save_path.mkdir(parents=True, exist_ok=True)\n",
    "\n",
    "save_path_k_wyrazy = Path('../data/partial_results/k_wyrazy_2')\n",
    "save_path_k_wyrazy.mkdir(parents=True, exist_ok=True)\n",
    "\n",
    "images_paths = source_path_canny.glob(\"*.png\")\n",
    "all_k_wyrazy = []\n",
    "for image_path in images_paths:\n",
    "#     image_path = Path(\"../data/partial_results/canny_adam/img_1.png\")\n",
    "    number_of_image = re.search('[0-9]+', image_path.stem)[0]\n",
    "    print(image_path)\n",
    "    img_canny = io.imread(image_path)\n",
    "    img_canny = color.rgb2gray(img_canny)\n",
    "#     img_canny = morphology.closing(img_canny, morphology.square(3))\n",
    "#     img_canny = morphology.opening(img_canny, morphology.disk(1))\n",
    "  \n",
    "    img_detected_rows = detect_lines_of_text(img_canny.copy()) \n",
    "    \n",
    "#     io.imshow(img_detected_rows)\n",
    "#     break\n",
    "    \n",
    "    # region = linia tekstu\n",
    "    label_image = measure.label(img_detected_rows)\n",
    "    regions = measure.regionprops(label_image)\n",
    "    print(\"regions: \", len(regions))\n",
    "    \n",
    "#     width = img_canny.shape[1]\n",
    "#     regions = [reg for reg in regions if reg.area > width*5] # wiersze powyżej 7 pikseli wysokości\n",
    "#     print(\"regions po usunięciu cienkich wierszy: \", len(regions))\n",
    "    \n",
    "    \n",
    "    image_result = np.zeros(img_canny.shape, dtype=np.uint8)\n",
    "    last_words = []\n",
    "    for i, region in enumerate(regions, 1):\n",
    "        last_word_coords = detect_words_in_line(image_result=image_result, \n",
    "                                                           image_binary=img_canny, \n",
    "                                                           coords_of_line=region.coords, \n",
    "                                                           row_intensity=((i*1)%256))\n",
    "        last_words.append(last_word_coords)\n",
    "    \n",
    "    # zapisywanie k-wyrazy        \n",
    "    io.imsave(arr=image_result, fname=save_path_k_wyrazy / '{}-wyrazy.png'.format(number_of_image))\n",
    "    all_k_wyrazy.append(image_result)\n",
    "    \n",
    "#     io.imshow(image_result)\n",
    "#     break\n",
    "\n",
    "    # Wczytanie oryginalnego obrazu i utworzenie katalogu dla wycinka indeksu.\n",
    "    img_org = io.imread(source_path_org / (image_path.stem + \".jpg\"))\n",
    "    number_of_image = re.search('[0-9]+', image_path.stem)[0]\n",
    "    last_word_directory = save_path / number_of_image\n",
    "    last_word_directory.mkdir(parents=True, exist_ok=True)\n",
    "    \n",
    "    # Wycięcie indeksu (last_word) z oryginalnego obrazu i zapisanie go w katalogu dla danego obrazu.\n",
    "    for i, last_word_coords in enumerate(last_words):\n",
    "        first_point = last_word_coords[0]\n",
    "        last_point = last_word_coords[-1]\n",
    "        last_word_img = img_org[first_point[0]:last_point[0]+1, first_point[1]:last_point[1]+1] \n",
    "        io.imsave(arr=last_word_img, fname=last_word_directory / '{}.png'.format(i))\n",
    "    \n",
    "\n",
    "\n",
    "\n",
    "#     io.imshow(img_org)\n",
    "#     break"
   ]
  },
  {
   "cell_type": "code",
   "execution_count": 16,
   "metadata": {},
   "outputs": [
    {
     "name": "stdout",
     "output_type": "stream",
     "text": [
      "CHYBA:  ..\\data\\partial_results\\k_wyrazy_2\\0-wyrazy\n",
      "..\\data\\partial_results\\k_wyrazy_2\\10-wyrazy.png\n",
      "..\\data\\partial_results\\k_wyrazy_2\\11-wyrazy.png\n",
      "..\\data\\partial_results\\k_wyrazy_2\\12-wyrazy.png\n",
      "..\\data\\partial_results\\k_wyrazy_2\\13-wyrazy.png\n",
      "..\\data\\partial_results\\k_wyrazy_2\\14-wyrazy.png\n",
      "..\\data\\partial_results\\k_wyrazy_2\\15-wyrazy.png\n",
      "..\\data\\partial_results\\k_wyrazy_2\\16-wyrazy.png\n",
      "..\\data\\partial_results\\k_wyrazy_2\\17-wyrazy.png\n",
      "..\\data\\partial_results\\k_wyrazy_2\\18-wyrazy.png\n",
      "..\\data\\partial_results\\k_wyrazy_2\\19-wyrazy.png\n",
      "..\\data\\partial_results\\k_wyrazy_2\\2-wyrazy.png\n",
      "..\\data\\partial_results\\k_wyrazy_2\\20-wyrazy.png\n",
      "..\\data\\partial_results\\k_wyrazy_2\\21-wyrazy.png\n",
      "..\\data\\partial_results\\k_wyrazy_2\\22-wyrazy.png\n",
      "..\\data\\partial_results\\k_wyrazy_2\\23-wyrazy.png\n",
      "..\\data\\partial_results\\k_wyrazy_2\\24-wyrazy.png\n",
      "..\\data\\partial_results\\k_wyrazy_2\\25-wyrazy.png\n",
      "..\\data\\partial_results\\k_wyrazy_2\\26-wyrazy.png\n",
      "..\\data\\partial_results\\k_wyrazy_2\\27-wyrazy.png\n",
      "..\\data\\partial_results\\k_wyrazy_2\\28-wyrazy.png\n",
      "..\\data\\partial_results\\k_wyrazy_2\\29-wyrazy.png\n",
      "..\\data\\partial_results\\k_wyrazy_2\\3-wyrazy.png\n",
      "..\\data\\partial_results\\k_wyrazy_2\\4-wyrazy.png\n",
      "..\\data\\partial_results\\k_wyrazy_2\\5-wyrazy.png\n"
     ]
    }
   ],
   "source": [
    "# kliknięcie ikony HOME (z domkiem) zmienia kolejne obrazy\n",
    "source_path = Path('../data/partial_results/k_wyrazy_2')\n",
    "image_paths = source_path.glob(\"*.png\")\n",
    "\n",
    "all_k_wyrazy = []\n",
    "for image_path in image_paths:\n",
    "    all_k_wyrazy.append(io.imread(image_path))\n",
    "\n",
    "cnt = 0\n",
    "def callback_home_button(event):\n",
    "    ''' this function gets called if we hit the home button'''\n",
    "    global cnt, image_paths\n",
    "    cnt+=1\n",
    "    image_paths = source_path.glob(\"*.png\")\n",
    "    print(list(image_paths)[cnt])\n",
    "#     print(source_path / \"{}\".format(image_paths[cnt].name))\n",
    "#     ss.set_data(all_k_wyrazy[cnt])\n",
    "    plt.imshow(all_k_wyrazy[cnt], interpolation='nearest')\n",
    "    plt.draw()\n",
    "    \n",
    "fig = plt.figure()\n",
    "\n",
    "toolbar_elements = fig.canvas.toolbar.children()\n",
    "right_button = toolbar_elements[4]\n",
    "\n",
    "right_button.clicked.connect(callback_home_button)\n",
    "ss = plt.imshow(all_k_wyrazy[cnt], interpolation='nearest')\n",
    "print(\"CHYBA: \", source_path / \"{}-wyrazy\".format(cnt))"
   ]
  },
  {
   "cell_type": "markdown",
   "metadata": {},
   "source": [
    "Jakie problemy?\n",
    "- 10, 14 - wiersze zbyt blisko sobie i łączą się w jeden oraz wykrywa jakieś szumy po bokach\n",
    "- 12, 14 - łączenie wyrazów zbyt blisko siebie\n",
    "- 17 - w ostatniej linijce rozdzielone słowo\n",
    "- 18 - gdy napisany są ukośnie to bardzo źle wychodzi, bo wiersze się łączą\n",
    "- 19 - indeksy rozdzielone, bo duża przerwa między cyframi"
   ]
  },
  {
   "cell_type": "code",
   "execution_count": null,
   "metadata": {},
   "outputs": [],
   "source": []
  },
  {
   "cell_type": "code",
   "execution_count": null,
   "metadata": {},
   "outputs": [],
   "source": []
  },
  {
   "cell_type": "code",
   "execution_count": 19,
   "metadata": {},
   "outputs": [
    {
     "data": {
      "text/plain": [
       "True"
      ]
     },
     "execution_count": 19,
     "metadata": {},
     "output_type": "execute_result"
    }
   ],
   "source": [
    "i = 32\n",
    "type(i) == int\n",
    "    "
   ]
  },
  {
   "cell_type": "code",
   "execution_count": 18,
   "metadata": {},
   "outputs": [
    {
     "data": {
      "text/plain": [
       "int"
      ]
     },
     "execution_count": 18,
     "metadata": {},
     "output_type": "execute_result"
    }
   ],
   "source": []
  },
  {
   "cell_type": "code",
   "execution_count": null,
   "metadata": {},
   "outputs": [],
   "source": []
  }
 ],
 "metadata": {
  "kernelspec": {
   "display_name": "Python 3",
   "language": "python",
   "name": "python3"
  },
  "language_info": {
   "codemirror_mode": {
    "name": "ipython",
    "version": 3
   },
   "file_extension": ".py",
   "mimetype": "text/x-python",
   "name": "python",
   "nbconvert_exporter": "python",
   "pygments_lexer": "ipython3",
   "version": "3.8.5"
  }
 },
 "nbformat": 4,
 "nbformat_minor": 4
}
